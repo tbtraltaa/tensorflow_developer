{
  "nbformat": 4,
  "nbformat_minor": 0,
  "metadata": {
    "accelerator": "GPU",
    "colab": {
      "name": "C3_W4_Assignment.ipynb",
      "provenance": [],
      "toc_visible": true,
      "include_colab_link": true
    },
    "kernelspec": {
      "display_name": "Python 3",
      "language": "python",
      "name": "python3"
    },
    "language_info": {
      "codemirror_mode": {
        "name": "ipython",
        "version": 3
      },
      "file_extension": ".py",
      "mimetype": "text/x-python",
      "name": "python",
      "nbconvert_exporter": "python",
      "pygments_lexer": "ipython3",
      "version": "3.8.5"
    }
  },
  "cells": [
    {
      "cell_type": "markdown",
      "metadata": {
        "id": "view-in-github",
        "colab_type": "text"
      },
      "source": [
        "<a href=\"https://colab.research.google.com/github/tbtraltaa/tensorflow_developer/blob/main/C3/W4/assignment/C3_W4_Assignment.ipynb\" target=\"_parent\"><img src=\"https://colab.research.google.com/assets/colab-badge.svg\" alt=\"Open In Colab\"/></a>"
      ]
    },
    {
      "cell_type": "code",
      "metadata": {
        "id": "T2XpcPvbXalN"
      },
      "source": [
        "#@title Licensed under the Apache License, Version 2.0 (the \"License\");\n",
        "# you may not use this file except in compliance with the License.\n",
        "# You may obtain a copy of the License at\n",
        "#\n",
        "# https://www.apache.org/licenses/LICENSE-2.0\n",
        "#\n",
        "# Unless required by applicable law or agreed to in writing, software\n",
        "# distributed under the License is distributed on an \"AS IS\" BASIS,\n",
        "# WITHOUT WARRANTIES OR CONDITIONS OF ANY KIND, either express or implied.\n",
        "# See the License for the specific language governing permissions and\n",
        "# limitations under the License."
      ],
      "execution_count": null,
      "outputs": []
    },
    {
      "cell_type": "markdown",
      "metadata": {
        "id": "eK88h3Y5XalO"
      },
      "source": [
        "**Note:** This notebook can run using TensorFlow 2.5.0"
      ]
    },
    {
      "cell_type": "code",
      "metadata": {
        "id": "zX4Kg8DUTKWO"
      },
      "source": [
        "#!pip install tensorflow==2.5.0"
      ],
      "execution_count": null,
      "outputs": []
    },
    {
      "cell_type": "code",
      "metadata": {
        "id": "BOwsuGQQY9OL"
      },
      "source": [
        "from tensorflow.keras.preprocessing.sequence import pad_sequences\n",
        "from tensorflow.keras.layers import Embedding, LSTM, Dense, Dropout, Bidirectional\n",
        "from tensorflow.keras.preprocessing.text import Tokenizer\n",
        "from tensorflow.keras.models import Sequential\n",
        "from tensorflow.keras.optimizers import Adam\n",
        "### YOUR CODE HERE\n",
        "# Figure out how to import regularizers\n",
        "from tensorflow.keras import regularizers\n",
        "###\n",
        "import tensorflow.keras.utils as ku \n",
        "import numpy as np "
      ],
      "execution_count": 2,
      "outputs": []
    },
    {
      "cell_type": "code",
      "metadata": {
        "id": "PRnDnCW-Z7qv",
        "outputId": "0ea7a9e1-a7ee-4ab1-e5ed-2d6ad3acef44",
        "colab": {
          "base_uri": "https://localhost:8080/"
        }
      },
      "source": [
        "tokenizer = Tokenizer()\n",
        "\n",
        "# sonnets.txt\n",
        "!gdown --id 108jAePKK4R3BVYBbYJZ32JWUwxeMg20K\n",
        "\n",
        "data = open('./sonnets.txt').read()\n",
        "\n",
        "corpus = data.lower().split(\"\\n\")\n",
        "\n",
        "\n",
        "tokenizer.fit_on_texts(corpus)\n",
        "total_words = len(tokenizer.word_index) + 1\n",
        "\n",
        "# create input sequences using list of tokens\n",
        "input_sequences = []\n",
        "for line in corpus:\n",
        "\ttoken_list = tokenizer.texts_to_sequences([line])[0]\n",
        "\tfor i in range(1, len(token_list)):\n",
        "\t\tn_gram_sequence = token_list[:i+1]\n",
        "\t\tinput_sequences.append(n_gram_sequence)\n",
        "\n",
        "\n",
        "# pad sequences \n",
        "max_sequence_len = max([len(x) for x in input_sequences])\n",
        "input_sequences = np.array(pad_sequences(input_sequences, maxlen=max_sequence_len, padding='pre'))\n",
        "\n",
        "# create predictors and label\n",
        "predictors, label = input_sequences[:,:-1],input_sequences[:,-1]\n",
        "\n",
        "label = ku.to_categorical(label, num_classes=total_words)"
      ],
      "execution_count": 3,
      "outputs": [
        {
          "output_type": "stream",
          "name": "stdout",
          "text": [
            "Downloading...\n",
            "From: https://drive.google.com/uc?id=108jAePKK4R3BVYBbYJZ32JWUwxeMg20K\n",
            "To: /content/sonnets.txt\n",
            "\r  0% 0.00/93.6k [00:00<?, ?B/s]\r100% 93.6k/93.6k [00:00<00:00, 72.2MB/s]\n"
          ]
        }
      ]
    },
    {
      "cell_type": "code",
      "metadata": {
        "id": "w9vH8Y59ajYL",
        "outputId": "23a93881-fd5f-401c-e1f6-9b5d918f2afc",
        "colab": {
          "base_uri": "https://localhost:8080/"
        }
      },
      "source": [
        "### START CODE HERE\n",
        "model = Sequential()\n",
        "model.add(Embedding(total_words, 100, input_length=max_sequence_len-1))# Your Embedding Layer)\n",
        "model.add(Bidirectional(LSTM(150, return_sequences=True)))# An LSTM Layer)\n",
        "model.add(Dropout(0.2))# A dropout layer)\n",
        "model.add(Bidirectional(LSTM(150)))# Another LSTM Layer)\n",
        "model.add(Dense(total_words/2, activation='relu', kernel_regularizer=regularizers.l2(0.01)))# A Dense Layer including regularizers)\n",
        "model.add(Dense(total_words, activation='softmax'))# A Dense Layer)\n",
        "# Pick an optimizer\n",
        "model.compile(loss='categorical_crossentropy', optimizer='adam',\n",
        "              metrics=['accuracy'])# Pick a loss function and an optimizer)\n",
        "### END CODE HERE\n",
        "    \n",
        "print(model.summary())"
      ],
      "execution_count": 4,
      "outputs": [
        {
          "output_type": "stream",
          "name": "stdout",
          "text": [
            "Model: \"sequential\"\n",
            "_________________________________________________________________\n",
            " Layer (type)                Output Shape              Param #   \n",
            "=================================================================\n",
            " embedding (Embedding)       (None, 10, 100)           321100    \n",
            "                                                                 \n",
            " bidirectional (Bidirectiona  (None, 10, 300)          301200    \n",
            " l)                                                              \n",
            "                                                                 \n",
            " dropout (Dropout)           (None, 10, 300)           0         \n",
            "                                                                 \n",
            " bidirectional_1 (Bidirectio  (None, 300)              541200    \n",
            " nal)                                                            \n",
            "                                                                 \n",
            " dense (Dense)               (None, 1605)              483105    \n",
            "                                                                 \n",
            " dense_1 (Dense)             (None, 3211)              5156866   \n",
            "                                                                 \n",
            "=================================================================\n",
            "Total params: 6,803,471\n",
            "Trainable params: 6,803,471\n",
            "Non-trainable params: 0\n",
            "_________________________________________________________________\n",
            "None\n"
          ]
        }
      ]
    },
    {
      "cell_type": "code",
      "metadata": {
        "id": "AIg2f1HBxqof",
        "outputId": "85d1e7db-e036-4f38-8b53-2587d89db57e",
        "colab": {
          "base_uri": "https://localhost:8080/"
        }
      },
      "source": [
        " history = model.fit(predictors, label, epochs=100, verbose=1)"
      ],
      "execution_count": 5,
      "outputs": [
        {
          "output_type": "stream",
          "name": "stdout",
          "text": [
            "Epoch 1/100\n",
            "484/484 [==============================] - 27s 33ms/step - loss: 7.0546 - accuracy: 0.0208\n",
            "Epoch 2/100\n",
            "484/484 [==============================] - 17s 34ms/step - loss: 6.5214 - accuracy: 0.0233\n",
            "Epoch 3/100\n",
            "484/484 [==============================] - 16s 33ms/step - loss: 6.4174 - accuracy: 0.0277\n",
            "Epoch 4/100\n",
            "484/484 [==============================] - 16s 33ms/step - loss: 6.3008 - accuracy: 0.0334\n",
            "Epoch 5/100\n",
            "484/484 [==============================] - 16s 33ms/step - loss: 6.1700 - accuracy: 0.0369\n",
            "Epoch 6/100\n",
            "484/484 [==============================] - 16s 33ms/step - loss: 6.0419 - accuracy: 0.0416\n",
            "Epoch 7/100\n",
            "484/484 [==============================] - 16s 33ms/step - loss: 5.9174 - accuracy: 0.0451\n",
            "Epoch 8/100\n",
            "484/484 [==============================] - 16s 33ms/step - loss: 5.7878 - accuracy: 0.0497\n",
            "Epoch 9/100\n",
            "484/484 [==============================] - 16s 33ms/step - loss: 5.6741 - accuracy: 0.0593\n",
            "Epoch 10/100\n",
            "484/484 [==============================] - 16s 33ms/step - loss: 5.5615 - accuracy: 0.0638\n",
            "Epoch 11/100\n",
            "484/484 [==============================] - 16s 33ms/step - loss: 5.4452 - accuracy: 0.0717\n",
            "Epoch 12/100\n",
            "484/484 [==============================] - 16s 33ms/step - loss: 5.3212 - accuracy: 0.0805\n",
            "Epoch 13/100\n",
            "484/484 [==============================] - 16s 33ms/step - loss: 5.2010 - accuracy: 0.0888\n",
            "Epoch 14/100\n",
            "484/484 [==============================] - 16s 33ms/step - loss: 5.0807 - accuracy: 0.0969\n",
            "Epoch 15/100\n",
            "484/484 [==============================] - 16s 33ms/step - loss: 4.9651 - accuracy: 0.1100\n",
            "Epoch 16/100\n",
            "484/484 [==============================] - 16s 33ms/step - loss: 4.8403 - accuracy: 0.1185\n",
            "Epoch 17/100\n",
            "484/484 [==============================] - 16s 33ms/step - loss: 4.7148 - accuracy: 0.1302\n",
            "Epoch 18/100\n",
            "484/484 [==============================] - 16s 33ms/step - loss: 4.5845 - accuracy: 0.1431\n",
            "Epoch 19/100\n",
            "484/484 [==============================] - 16s 33ms/step - loss: 4.4683 - accuracy: 0.1563\n",
            "Epoch 20/100\n",
            "484/484 [==============================] - 16s 33ms/step - loss: 4.3309 - accuracy: 0.1685\n",
            "Epoch 21/100\n",
            "484/484 [==============================] - 16s 33ms/step - loss: 4.2014 - accuracy: 0.1840\n",
            "Epoch 22/100\n",
            "484/484 [==============================] - 16s 33ms/step - loss: 4.0773 - accuracy: 0.1992\n",
            "Epoch 23/100\n",
            "484/484 [==============================] - 16s 33ms/step - loss: 3.9365 - accuracy: 0.2197\n",
            "Epoch 24/100\n",
            "484/484 [==============================] - 16s 33ms/step - loss: 3.8025 - accuracy: 0.2386\n",
            "Epoch 25/100\n",
            "484/484 [==============================] - 16s 33ms/step - loss: 3.6749 - accuracy: 0.2628\n",
            "Epoch 26/100\n",
            "484/484 [==============================] - 16s 33ms/step - loss: 3.5519 - accuracy: 0.2839\n",
            "Epoch 27/100\n",
            "484/484 [==============================] - 16s 33ms/step - loss: 3.4295 - accuracy: 0.3137\n",
            "Epoch 28/100\n",
            "484/484 [==============================] - 16s 33ms/step - loss: 3.3003 - accuracy: 0.3426\n",
            "Epoch 29/100\n",
            "484/484 [==============================] - 16s 33ms/step - loss: 3.1931 - accuracy: 0.3657\n",
            "Epoch 30/100\n",
            "484/484 [==============================] - 16s 33ms/step - loss: 3.0817 - accuracy: 0.3917\n",
            "Epoch 31/100\n",
            "484/484 [==============================] - 16s 33ms/step - loss: 2.9659 - accuracy: 0.4180\n",
            "Epoch 32/100\n",
            "484/484 [==============================] - 16s 33ms/step - loss: 2.8569 - accuracy: 0.4455\n",
            "Epoch 33/100\n",
            "484/484 [==============================] - 16s 33ms/step - loss: 2.7550 - accuracy: 0.4674\n",
            "Epoch 34/100\n",
            "484/484 [==============================] - 16s 33ms/step - loss: 2.6592 - accuracy: 0.4924\n",
            "Epoch 35/100\n",
            "484/484 [==============================] - 16s 33ms/step - loss: 2.5773 - accuracy: 0.5074\n",
            "Epoch 36/100\n",
            "484/484 [==============================] - 16s 33ms/step - loss: 2.4866 - accuracy: 0.5312\n",
            "Epoch 37/100\n",
            "484/484 [==============================] - 16s 33ms/step - loss: 2.4135 - accuracy: 0.5464\n",
            "Epoch 38/100\n",
            "484/484 [==============================] - 16s 33ms/step - loss: 2.3313 - accuracy: 0.5691\n",
            "Epoch 39/100\n",
            "484/484 [==============================] - 16s 33ms/step - loss: 2.2565 - accuracy: 0.5869\n",
            "Epoch 40/100\n",
            "484/484 [==============================] - 16s 33ms/step - loss: 2.1788 - accuracy: 0.6041\n",
            "Epoch 41/100\n",
            "484/484 [==============================] - 16s 33ms/step - loss: 2.1228 - accuracy: 0.6200\n",
            "Epoch 42/100\n",
            "484/484 [==============================] - 16s 33ms/step - loss: 2.0527 - accuracy: 0.6294\n",
            "Epoch 43/100\n",
            "484/484 [==============================] - 16s 33ms/step - loss: 2.0050 - accuracy: 0.6389\n",
            "Epoch 44/100\n",
            "484/484 [==============================] - 16s 33ms/step - loss: 1.9450 - accuracy: 0.6575\n",
            "Epoch 45/100\n",
            "484/484 [==============================] - 16s 33ms/step - loss: 1.8854 - accuracy: 0.6693\n",
            "Epoch 46/100\n",
            "484/484 [==============================] - 16s 33ms/step - loss: 1.8472 - accuracy: 0.6801\n",
            "Epoch 47/100\n",
            "484/484 [==============================] - 16s 33ms/step - loss: 1.7931 - accuracy: 0.6918\n",
            "Epoch 48/100\n",
            "484/484 [==============================] - 16s 33ms/step - loss: 1.7391 - accuracy: 0.7015\n",
            "Epoch 49/100\n",
            "484/484 [==============================] - 16s 33ms/step - loss: 1.6923 - accuracy: 0.7119\n",
            "Epoch 50/100\n",
            "484/484 [==============================] - 16s 33ms/step - loss: 1.6562 - accuracy: 0.7216\n",
            "Epoch 51/100\n",
            "484/484 [==============================] - 16s 33ms/step - loss: 1.6553 - accuracy: 0.7156\n",
            "Epoch 52/100\n",
            "484/484 [==============================] - 16s 33ms/step - loss: 1.6008 - accuracy: 0.7315\n",
            "Epoch 53/100\n",
            "484/484 [==============================] - 16s 33ms/step - loss: 1.5674 - accuracy: 0.7372\n",
            "Epoch 54/100\n",
            "484/484 [==============================] - 16s 33ms/step - loss: 1.5142 - accuracy: 0.7478\n",
            "Epoch 55/100\n",
            "484/484 [==============================] - 16s 33ms/step - loss: 1.4933 - accuracy: 0.7527\n",
            "Epoch 56/100\n",
            "484/484 [==============================] - 16s 33ms/step - loss: 1.4551 - accuracy: 0.7586\n",
            "Epoch 57/100\n",
            "484/484 [==============================] - 16s 33ms/step - loss: 1.4393 - accuracy: 0.7639\n",
            "Epoch 58/100\n",
            "484/484 [==============================] - 16s 33ms/step - loss: 1.4249 - accuracy: 0.7624\n",
            "Epoch 59/100\n",
            "484/484 [==============================] - 16s 33ms/step - loss: 1.3954 - accuracy: 0.7674\n",
            "Epoch 60/100\n",
            "484/484 [==============================] - 16s 33ms/step - loss: 1.3519 - accuracy: 0.7793\n",
            "Epoch 61/100\n",
            "484/484 [==============================] - 16s 33ms/step - loss: 1.3451 - accuracy: 0.7793\n",
            "Epoch 62/100\n",
            "484/484 [==============================] - 16s 33ms/step - loss: 1.3667 - accuracy: 0.7702\n",
            "Epoch 63/100\n",
            "484/484 [==============================] - 16s 33ms/step - loss: 1.3076 - accuracy: 0.7884\n",
            "Epoch 64/100\n",
            "484/484 [==============================] - 16s 33ms/step - loss: 1.2684 - accuracy: 0.7927\n",
            "Epoch 65/100\n",
            "484/484 [==============================] - 16s 33ms/step - loss: 1.2528 - accuracy: 0.7930\n",
            "Epoch 66/100\n",
            "484/484 [==============================] - 16s 33ms/step - loss: 1.2578 - accuracy: 0.7912\n",
            "Epoch 67/100\n",
            "484/484 [==============================] - 16s 33ms/step - loss: 1.2285 - accuracy: 0.7999\n",
            "Epoch 68/100\n",
            "484/484 [==============================] - 16s 33ms/step - loss: 1.1975 - accuracy: 0.8032\n",
            "Epoch 69/100\n",
            "484/484 [==============================] - 16s 33ms/step - loss: 1.2063 - accuracy: 0.7959\n",
            "Epoch 70/100\n",
            "484/484 [==============================] - 16s 33ms/step - loss: 1.1975 - accuracy: 0.8015\n",
            "Epoch 71/100\n",
            "484/484 [==============================] - 16s 33ms/step - loss: 1.1821 - accuracy: 0.8028\n",
            "Epoch 72/100\n",
            "484/484 [==============================] - 16s 33ms/step - loss: 1.1520 - accuracy: 0.8099\n",
            "Epoch 73/100\n",
            "484/484 [==============================] - 16s 33ms/step - loss: 1.1415 - accuracy: 0.8081\n",
            "Epoch 74/100\n",
            "484/484 [==============================] - 16s 33ms/step - loss: 1.1334 - accuracy: 0.8114\n",
            "Epoch 75/100\n",
            "484/484 [==============================] - 16s 33ms/step - loss: 1.1277 - accuracy: 0.8119\n",
            "Epoch 76/100\n",
            "484/484 [==============================] - 16s 33ms/step - loss: 1.1282 - accuracy: 0.8092\n",
            "Epoch 77/100\n",
            "484/484 [==============================] - 16s 33ms/step - loss: 1.1070 - accuracy: 0.8133\n",
            "Epoch 78/100\n",
            "484/484 [==============================] - 16s 33ms/step - loss: 1.1002 - accuracy: 0.8121\n",
            "Epoch 79/100\n",
            "484/484 [==============================] - 16s 33ms/step - loss: 1.0817 - accuracy: 0.8150\n",
            "Epoch 80/100\n",
            "484/484 [==============================] - 16s 33ms/step - loss: 1.0765 - accuracy: 0.8161\n",
            "Epoch 81/100\n",
            "484/484 [==============================] - 16s 33ms/step - loss: 1.0806 - accuracy: 0.8139\n",
            "Epoch 82/100\n",
            "484/484 [==============================] - 16s 33ms/step - loss: 1.0742 - accuracy: 0.8157\n",
            "Epoch 83/100\n",
            "484/484 [==============================] - 16s 33ms/step - loss: 1.0493 - accuracy: 0.8201\n",
            "Epoch 84/100\n",
            "484/484 [==============================] - 16s 33ms/step - loss: 1.0338 - accuracy: 0.8222\n",
            "Epoch 85/100\n",
            "484/484 [==============================] - 16s 33ms/step - loss: 1.0214 - accuracy: 0.8263\n",
            "Epoch 86/100\n",
            "484/484 [==============================] - 16s 33ms/step - loss: 1.0226 - accuracy: 0.8212\n",
            "Epoch 87/100\n",
            "484/484 [==============================] - 16s 33ms/step - loss: 1.0218 - accuracy: 0.8232\n",
            "Epoch 88/100\n",
            "484/484 [==============================] - 16s 33ms/step - loss: 1.0174 - accuracy: 0.8227\n",
            "Epoch 89/100\n",
            "484/484 [==============================] - 16s 33ms/step - loss: 1.0146 - accuracy: 0.8247\n",
            "Epoch 90/100\n",
            "484/484 [==============================] - 16s 33ms/step - loss: 0.9977 - accuracy: 0.8281\n",
            "Epoch 91/100\n",
            "484/484 [==============================] - 16s 33ms/step - loss: 0.9951 - accuracy: 0.8246\n",
            "Epoch 92/100\n",
            "484/484 [==============================] - 16s 33ms/step - loss: 0.9974 - accuracy: 0.8233\n",
            "Epoch 93/100\n",
            "484/484 [==============================] - 16s 33ms/step - loss: 0.9872 - accuracy: 0.8283\n",
            "Epoch 94/100\n",
            "484/484 [==============================] - 16s 33ms/step - loss: 0.9714 - accuracy: 0.8304\n",
            "Epoch 95/100\n",
            "484/484 [==============================] - 16s 33ms/step - loss: 0.9818 - accuracy: 0.8278\n",
            "Epoch 96/100\n",
            "484/484 [==============================] - 16s 33ms/step - loss: 0.9442 - accuracy: 0.8320\n",
            "Epoch 97/100\n",
            "484/484 [==============================] - 16s 33ms/step - loss: 0.9541 - accuracy: 0.8294\n",
            "Epoch 98/100\n",
            "484/484 [==============================] - 16s 33ms/step - loss: 0.9816 - accuracy: 0.8249\n",
            "Epoch 99/100\n",
            "484/484 [==============================] - 16s 33ms/step - loss: 0.9586 - accuracy: 0.8289\n",
            "Epoch 100/100\n",
            "484/484 [==============================] - 16s 33ms/step - loss: 0.9492 - accuracy: 0.8300\n"
          ]
        }
      ]
    },
    {
      "cell_type": "code",
      "metadata": {
        "id": "1fXTEO3GJ282",
        "outputId": "01409bd3-ad17-40da-b74f-330b855a0b6e",
        "colab": {
          "base_uri": "https://localhost:8080/",
          "height": 545
        }
      },
      "source": [
        "import matplotlib.pyplot as plt\n",
        "acc = history.history['accuracy']\n",
        "loss = history.history['loss']\n",
        "\n",
        "epochs = range(len(acc))\n",
        "\n",
        "plt.plot(epochs, acc, 'b', label='Training accuracy')\n",
        "plt.title('Training accuracy')\n",
        "\n",
        "plt.figure()\n",
        "\n",
        "plt.plot(epochs, loss, 'b', label='Training Loss')\n",
        "plt.title('Training loss')\n",
        "plt.legend()\n",
        "\n",
        "plt.show()"
      ],
      "execution_count": 6,
      "outputs": [
        {
          "output_type": "display_data",
          "data": {
            "text/plain": [
              "<Figure size 432x288 with 1 Axes>"
            ],
            "image/png": "[encoded data removed]"
          },
          "metadata": {
            "needs_background": "light"
          }
        },
        {
          "output_type": "display_data",
          "data": {
            "text/plain": [
              "<Figure size 432x288 with 1 Axes>"
            ],
            "image/png": "[encoded data removed]"
          },
          "metadata": {
            "needs_background": "light"
          }
        }
      ]
    },
    {
      "cell_type": "code",
      "metadata": {
        "id": "6Vc6PHgxa6Hm",
        "outputId": "95b18b5c-676a-4591-9a72-9f614579f78d",
        "colab": {
          "base_uri": "https://localhost:8080/",
          "height": 240
        }
      },
      "source": [
        "seed_text = \"Help me Obi Wan Kenobi, you're my only hope\"\n",
        "next_words = 100\n",
        "  \n",
        "for _ in range(next_words):\n",
        "\ttoken_list = tokenizer.texts_to_sequences([seed_text])[0]\n",
        "\ttoken_list = pad_sequences([token_list], maxlen=max_sequence_len-1, padding='pre')\n",
        "\tpredicted = model.predict_classes(token_list, verbose=0)\n",
        "\toutput_word = \"\"\n",
        "\tfor word, index in tokenizer.word_index.items():\n",
        "\t\tif index == predicted:\n",
        "\t\t\toutput_word = word\n",
        "\t\t\tbreak\n",
        "\tseed_text += \" \" + output_word\n",
        "print(seed_text)"
      ],
      "execution_count": 7,
      "outputs": [
        {
          "output_type": "error",
          "ename": "AttributeError",
          "evalue": "ignored",
          "traceback": [
            "\u001b[0;31m---------------------------------------------------------------------------\u001b[0m",
            "\u001b[0;31mAttributeError\u001b[0m                            Traceback (most recent call last)",
            "\u001b[0;32m<ipython-input-7-622d307fa19a>\u001b[0m in \u001b[0;36m<module>\u001b[0;34m()\u001b[0m\n\u001b[1;32m      5\u001b[0m         \u001b[0mtoken_list\u001b[0m \u001b[0;34m=\u001b[0m \u001b[0mtokenizer\u001b[0m\u001b[0;34m.\u001b[0m\u001b[0mtexts_to_sequences\u001b[0m\u001b[0;34m(\u001b[0m\u001b[0;34m[\u001b[0m\u001b[0mseed_text\u001b[0m\u001b[0;34m]\u001b[0m\u001b[0;34m)\u001b[0m\u001b[0;34m[\u001b[0m\u001b[0;36m0\u001b[0m\u001b[0;34m]\u001b[0m\u001b[0;34m\u001b[0m\u001b[0;34m\u001b[0m\u001b[0m\n\u001b[1;32m      6\u001b[0m         \u001b[0mtoken_list\u001b[0m \u001b[0;34m=\u001b[0m \u001b[0mpad_sequences\u001b[0m\u001b[0;34m(\u001b[0m\u001b[0;34m[\u001b[0m\u001b[0mtoken_list\u001b[0m\u001b[0;34m]\u001b[0m\u001b[0;34m,\u001b[0m \u001b[0mmaxlen\u001b[0m\u001b[0;34m=\u001b[0m\u001b[0mmax_sequence_len\u001b[0m\u001b[0;34m-\u001b[0m\u001b[0;36m1\u001b[0m\u001b[0;34m,\u001b[0m \u001b[0mpadding\u001b[0m\u001b[0;34m=\u001b[0m\u001b[0;34m'pre'\u001b[0m\u001b[0;34m)\u001b[0m\u001b[0;34m\u001b[0m\u001b[0;34m\u001b[0m\u001b[0m\n\u001b[0;32m----> 7\u001b[0;31m         \u001b[0mpredicted\u001b[0m \u001b[0;34m=\u001b[0m \u001b[0mmodel\u001b[0m\u001b[0;34m.\u001b[0m\u001b[0mpredict_classes\u001b[0m\u001b[0;34m(\u001b[0m\u001b[0mtoken_list\u001b[0m\u001b[0;34m,\u001b[0m \u001b[0mverbose\u001b[0m\u001b[0;34m=\u001b[0m\u001b[0;36m0\u001b[0m\u001b[0;34m)\u001b[0m\u001b[0;34m\u001b[0m\u001b[0;34m\u001b[0m\u001b[0m\n\u001b[0m\u001b[1;32m      8\u001b[0m         \u001b[0moutput_word\u001b[0m \u001b[0;34m=\u001b[0m \u001b[0;34m\"\"\u001b[0m\u001b[0;34m\u001b[0m\u001b[0;34m\u001b[0m\u001b[0m\n\u001b[1;32m      9\u001b[0m         \u001b[0;32mfor\u001b[0m \u001b[0mword\u001b[0m\u001b[0;34m,\u001b[0m \u001b[0mindex\u001b[0m \u001b[0;32min\u001b[0m \u001b[0mtokenizer\u001b[0m\u001b[0;34m.\u001b[0m\u001b[0mword_index\u001b[0m\u001b[0;34m.\u001b[0m\u001b[0mitems\u001b[0m\u001b[0;34m(\u001b[0m\u001b[0;34m)\u001b[0m\u001b[0;34m:\u001b[0m\u001b[0;34m\u001b[0m\u001b[0;34m\u001b[0m\u001b[0m\n",
            "\u001b[0;31mAttributeError\u001b[0m: 'Sequential' object has no attribute 'predict_classes'"
          ]
        }
      ]
    },
    {
      "cell_type": "code",
      "source": [
        ""
      ],
      "metadata": {
        "id": "2E7PzNykbkgJ"
      },
      "execution_count": null,
      "outputs": []
    }
  ]
}