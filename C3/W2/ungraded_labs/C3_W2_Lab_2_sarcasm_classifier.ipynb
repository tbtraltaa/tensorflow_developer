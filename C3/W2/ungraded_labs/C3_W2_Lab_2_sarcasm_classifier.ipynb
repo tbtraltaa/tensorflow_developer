{
  "nbformat": 4,
  "nbformat_minor": 0,
  "metadata": {
    "accelerator": "GPU",
    "colab": {
      "name": "C3_W2_Lab_2_sarcasm_classifier.ipynb",
      "provenance": [],
      "collapsed_sections": [],
      "toc_visible": true,
      "include_colab_link": true
    },
    "kernelspec": {
      "name": "python3",
      "display_name": "Python 3"
    },
    "language_info": {
      "name": "python"
    }
  },
  "cells": [
    {
      "cell_type": "markdown",
      "metadata": {
        "id": "view-in-github",
        "colab_type": "text"
      },
      "source": [
        "<a href=\"https://colab.research.google.com/github/tbtraltaa/tensorflow_developer/blob/main/C3/W2/ungraded_labs/C3_W2_Lab_2_sarcasm_classifier.ipynb\" target=\"_parent\"><img src=\"https://colab.research.google.com/assets/colab-badge.svg\" alt=\"Open In Colab\"/></a>"
      ]
    },
    {
      "cell_type": "code",
      "metadata": {
        "id": "zX4Kg8DUTKWO"
      },
      "source": [
        "#@title Licensed under the Apache License, Version 2.0 (the \"License\");\n",
        "# you may not use this file except in compliance with the License.\n",
        "# You may obtain a copy of the License at\n",
        "#\n",
        "# https://www.apache.org/licenses/LICENSE-2.0\n",
        "#\n",
        "# Unless required by applicable law or agreed to in writing, software\n",
        "# distributed under the License is distributed on an \"AS IS\" BASIS,\n",
        "# WITHOUT WARRANTIES OR CONDITIONS OF ANY KIND, either express or implied.\n",
        "# See the License for the specific language governing permissions and\n",
        "# limitations under the License."
      ],
      "execution_count": null,
      "outputs": []
    },
    {
      "cell_type": "markdown",
      "metadata": {
        "id": "DblSKtgISM2d"
      },
      "source": [
        "**Note:** This notebook can run using TensorFlow 2.5.0"
      ]
    },
    {
      "cell_type": "code",
      "metadata": {
        "id": "4gs9htvM7n_x"
      },
      "source": [
        "#!pip install tensorflow==2.5.0"
      ],
      "execution_count": null,
      "outputs": []
    },
    {
      "cell_type": "code",
      "metadata": {
        "id": "XYYDvoskkE61"
      },
      "source": [
        "import json\n",
        "import tensorflow as tf\n",
        "\n",
        "from tensorflow.keras.preprocessing.text import Tokenizer\n",
        "from tensorflow.keras.preprocessing.sequence import pad_sequences"
      ],
      "execution_count": 115,
      "outputs": []
    },
    {
      "cell_type": "code",
      "metadata": {
        "id": "0eJSTTYnkJQd"
      },
      "source": [
        "vocab_size = 1200\n",
        "embedding_dim = 32\n",
        "max_length = 20\n",
        "trunc_type='post'\n",
        "padding_type='post'\n",
        "oov_tok = \"<OOV>\"\n",
        "training_size = 20000\n"
      ],
      "execution_count": 161,
      "outputs": []
    },
    {
      "cell_type": "code",
      "metadata": {
        "id": "BQVuQrZNkPn9",
        "outputId": "a9ef57c5-43ab-427f-dc1c-3547868c3bf6",
        "colab": {
          "base_uri": "https://localhost:8080/"
        }
      },
      "source": [
        "# sarcasm.json\n",
        "!gdown --id 1xRU3xY5-tkiPGvlz5xBJ18_pHWSRzI4v"
      ],
      "execution_count": 162,
      "outputs": [
        {
          "output_type": "stream",
          "name": "stdout",
          "text": [
            "Downloading...\n",
            "From: https://drive.google.com/uc?id=1xRU3xY5-tkiPGvlz5xBJ18_pHWSRzI4v\n",
            "To: /content/sarcasm.json\n",
            "\r  0% 0.00/5.64M [00:00<?, ?B/s]\r100% 5.64M/5.64M [00:00<00:00, 122MB/s]\n"
          ]
        }
      ]
    },
    {
      "cell_type": "code",
      "metadata": {
        "id": "oaLaaqhNkUPd"
      },
      "source": [
        "with open(\"./sarcasm.json\", 'r') as f:\n",
        "    datastore = json.load(f)\n",
        "\n",
        "sentences = []\n",
        "labels = []\n",
        "\n",
        "for item in datastore:\n",
        "    sentences.append(item['headline'])\n",
        "    labels.append(item['is_sarcastic'])"
      ],
      "execution_count": 163,
      "outputs": []
    },
    {
      "cell_type": "code",
      "metadata": {
        "id": "S1sD-7v0kYWk"
      },
      "source": [
        "training_sentences = sentences[0:training_size]\n",
        "testing_sentences = sentences[training_size:]\n",
        "training_labels = labels[0:training_size]\n",
        "testing_labels = labels[training_size:]"
      ],
      "execution_count": 164,
      "outputs": []
    },
    {
      "cell_type": "code",
      "metadata": {
        "id": "3u8UB0MCkZ5N"
      },
      "source": [
        "tokenizer = Tokenizer(num_words=vocab_size, oov_token=oov_tok)\n",
        "tokenizer.fit_on_texts(training_sentences)\n",
        "\n",
        "word_index = tokenizer.word_index\n",
        "\n",
        "training_sequences = tokenizer.texts_to_sequences(training_sentences)\n",
        "training_padded = pad_sequences(training_sequences, maxlen=max_length, padding=padding_type, truncating=trunc_type)\n",
        "\n",
        "testing_sequences = tokenizer.texts_to_sequences(testing_sentences)\n",
        "testing_padded = pad_sequences(testing_sequences, maxlen=max_length, padding=padding_type, truncating=trunc_type)"
      ],
      "execution_count": 165,
      "outputs": []
    },
    {
      "cell_type": "code",
      "metadata": {
        "id": "GrAlWBKf99Ya"
      },
      "source": [
        "# Need this block to get it to work with TensorFlow 2.x\n",
        "import numpy as np\n",
        "training_padded = np.array(training_padded)\n",
        "training_labels = np.array(training_labels)\n",
        "testing_padded = np.array(testing_padded)\n",
        "testing_labels = np.array(testing_labels)"
      ],
      "execution_count": 166,
      "outputs": []
    },
    {
      "cell_type": "code",
      "metadata": {
        "id": "FufaT4vlkiDE"
      },
      "source": [
        "model = tf.keras.Sequential([\n",
        "    tf.keras.layers.Embedding(vocab_size, embedding_dim, input_length=max_length),\n",
        "    tf.keras.layers.GlobalAveragePooling1D(),\n",
        "    tf.keras.layers.Dense(24, activation='relu'),\n",
        "    tf.keras.layers.Dense(1, activation='sigmoid')\n",
        "])\n",
        "model.compile(loss='binary_crossentropy',optimizer='adam',metrics=['accuracy'])"
      ],
      "execution_count": 167,
      "outputs": []
    },
    {
      "cell_type": "code",
      "metadata": {
        "id": "XfDt1hmYkiys",
        "outputId": "12e98ea3-582e-48c8-bf59-8e3f20161483",
        "colab": {
          "base_uri": "https://localhost:8080/"
        }
      },
      "source": [
        "model.summary()\n"
      ],
      "execution_count": 168,
      "outputs": [
        {
          "output_type": "stream",
          "name": "stdout",
          "text": [
            "Model: \"sequential_16\"\n",
            "_________________________________________________________________\n",
            " Layer (type)                Output Shape              Param #   \n",
            "=================================================================\n",
            " embedding_16 (Embedding)    (None, 20, 32)            38400     \n",
            "                                                                 \n",
            " global_average_pooling1d_16  (None, 32)               0         \n",
            "  (GlobalAveragePooling1D)                                       \n",
            "                                                                 \n",
            " dense_32 (Dense)            (None, 24)                792       \n",
            "                                                                 \n",
            " dense_33 (Dense)            (None, 1)                 25        \n",
            "                                                                 \n",
            "=================================================================\n",
            "Total params: 39,217\n",
            "Trainable params: 39,217\n",
            "Non-trainable params: 0\n",
            "_________________________________________________________________\n"
          ]
        }
      ]
    },
    {
      "cell_type": "code",
      "metadata": {
        "id": "2DTKQFf1kkyc",
        "outputId": "50a26ab6-c70e-4a16-e316-368d8aaa3007",
        "colab": {
          "base_uri": "https://localhost:8080/"
        }
      },
      "source": [
        "num_epochs = 30\n",
        "history = model.fit(training_padded, training_labels, epochs=num_epochs, validation_data=(testing_padded, testing_labels), verbose=2)"
      ],
      "execution_count": 169,
      "outputs": [
        {
          "output_type": "stream",
          "name": "stdout",
          "text": [
            "Epoch 1/30\n",
            "625/625 - 3s - loss: 0.5161 - accuracy: 0.7361 - val_loss: 0.4062 - val_accuracy: 0.8117 - 3s/epoch - 5ms/step\n",
            "Epoch 2/30\n",
            "625/625 - 2s - loss: 0.3696 - accuracy: 0.8349 - val_loss: 0.3958 - val_accuracy: 0.8207 - 2s/epoch - 4ms/step\n",
            "Epoch 3/30\n",
            "625/625 - 3s - loss: 0.3512 - accuracy: 0.8425 - val_loss: 0.3960 - val_accuracy: 0.8222 - 3s/epoch - 4ms/step\n",
            "Epoch 4/30\n",
            "625/625 - 2s - loss: 0.3433 - accuracy: 0.8463 - val_loss: 0.3970 - val_accuracy: 0.8143 - 2s/epoch - 4ms/step\n",
            "Epoch 5/30\n",
            "625/625 - 2s - loss: 0.3400 - accuracy: 0.8494 - val_loss: 0.3966 - val_accuracy: 0.8211 - 2s/epoch - 4ms/step\n",
            "Epoch 6/30\n",
            "625/625 - 2s - loss: 0.3375 - accuracy: 0.8475 - val_loss: 0.3986 - val_accuracy: 0.8173 - 2s/epoch - 4ms/step\n",
            "Epoch 7/30\n",
            "625/625 - 3s - loss: 0.3355 - accuracy: 0.8508 - val_loss: 0.3986 - val_accuracy: 0.8180 - 3s/epoch - 4ms/step\n",
            "Epoch 8/30\n",
            "625/625 - 2s - loss: 0.3336 - accuracy: 0.8512 - val_loss: 0.3915 - val_accuracy: 0.8220 - 2s/epoch - 4ms/step\n",
            "Epoch 9/30\n",
            "625/625 - 2s - loss: 0.3289 - accuracy: 0.8527 - val_loss: 0.3894 - val_accuracy: 0.8229 - 2s/epoch - 4ms/step\n",
            "Epoch 10/30\n",
            "625/625 - 3s - loss: 0.3247 - accuracy: 0.8535 - val_loss: 0.3873 - val_accuracy: 0.8234 - 3s/epoch - 4ms/step\n",
            "Epoch 11/30\n",
            "625/625 - 2s - loss: 0.3210 - accuracy: 0.8578 - val_loss: 0.3846 - val_accuracy: 0.8235 - 2s/epoch - 4ms/step\n",
            "Epoch 12/30\n",
            "625/625 - 2s - loss: 0.3169 - accuracy: 0.8607 - val_loss: 0.3889 - val_accuracy: 0.8252 - 2s/epoch - 4ms/step\n",
            "Epoch 13/30\n",
            "625/625 - 2s - loss: 0.3133 - accuracy: 0.8610 - val_loss: 0.3844 - val_accuracy: 0.8252 - 2s/epoch - 4ms/step\n",
            "Epoch 14/30\n",
            "625/625 - 3s - loss: 0.3105 - accuracy: 0.8619 - val_loss: 0.3855 - val_accuracy: 0.8262 - 3s/epoch - 4ms/step\n",
            "Epoch 15/30\n",
            "625/625 - 2s - loss: 0.3066 - accuracy: 0.8651 - val_loss: 0.3855 - val_accuracy: 0.8255 - 2s/epoch - 4ms/step\n",
            "Epoch 16/30\n",
            "625/625 - 2s - loss: 0.3038 - accuracy: 0.8659 - val_loss: 0.3917 - val_accuracy: 0.8269 - 2s/epoch - 4ms/step\n",
            "Epoch 17/30\n",
            "625/625 - 2s - loss: 0.3009 - accuracy: 0.8666 - val_loss: 0.3909 - val_accuracy: 0.8225 - 2s/epoch - 4ms/step\n",
            "Epoch 18/30\n",
            "625/625 - 2s - loss: 0.2980 - accuracy: 0.8673 - val_loss: 0.3990 - val_accuracy: 0.8204 - 2s/epoch - 4ms/step\n",
            "Epoch 19/30\n",
            "625/625 - 3s - loss: 0.2959 - accuracy: 0.8709 - val_loss: 0.4025 - val_accuracy: 0.8186 - 3s/epoch - 4ms/step\n",
            "Epoch 20/30\n",
            "625/625 - 2s - loss: 0.2935 - accuracy: 0.8712 - val_loss: 0.3946 - val_accuracy: 0.8255 - 2s/epoch - 4ms/step\n",
            "Epoch 21/30\n",
            "625/625 - 3s - loss: 0.2917 - accuracy: 0.8734 - val_loss: 0.3995 - val_accuracy: 0.8220 - 3s/epoch - 4ms/step\n",
            "Epoch 22/30\n",
            "625/625 - 2s - loss: 0.2888 - accuracy: 0.8745 - val_loss: 0.4001 - val_accuracy: 0.8243 - 2s/epoch - 4ms/step\n",
            "Epoch 23/30\n",
            "625/625 - 3s - loss: 0.2872 - accuracy: 0.8754 - val_loss: 0.4009 - val_accuracy: 0.8246 - 3s/epoch - 4ms/step\n",
            "Epoch 24/30\n",
            "625/625 - 2s - loss: 0.2858 - accuracy: 0.8737 - val_loss: 0.4034 - val_accuracy: 0.8240 - 2s/epoch - 4ms/step\n",
            "Epoch 25/30\n",
            "625/625 - 2s - loss: 0.2835 - accuracy: 0.8762 - val_loss: 0.4061 - val_accuracy: 0.8222 - 2s/epoch - 4ms/step\n",
            "Epoch 26/30\n",
            "625/625 - 3s - loss: 0.2817 - accuracy: 0.8759 - val_loss: 0.4024 - val_accuracy: 0.8222 - 3s/epoch - 4ms/step\n",
            "Epoch 27/30\n",
            "625/625 - 2s - loss: 0.2804 - accuracy: 0.8773 - val_loss: 0.4072 - val_accuracy: 0.8237 - 2s/epoch - 4ms/step\n",
            "Epoch 28/30\n",
            "625/625 - 2s - loss: 0.2781 - accuracy: 0.8780 - val_loss: 0.4082 - val_accuracy: 0.8229 - 2s/epoch - 4ms/step\n",
            "Epoch 29/30\n",
            "625/625 - 2s - loss: 0.2748 - accuracy: 0.8816 - val_loss: 0.4128 - val_accuracy: 0.8226 - 2s/epoch - 4ms/step\n",
            "Epoch 30/30\n",
            "625/625 - 3s - loss: 0.2723 - accuracy: 0.8824 - val_loss: 0.4141 - val_accuracy: 0.8214 - 3s/epoch - 4ms/step\n"
          ]
        }
      ]
    },
    {
      "cell_type": "code",
      "metadata": {
        "id": "2HYfBKXjkmU8",
        "outputId": "4cbc7e56-006d-47b8-e3e3-ee4d07d7bd2c",
        "colab": {
          "base_uri": "https://localhost:8080/",
          "height": 541
        }
      },
      "source": [
        "import matplotlib.pyplot as plt\n",
        "\n",
        "\n",
        "def plot_graphs(history, string):\n",
        "  plt.plot(history.history[string])\n",
        "  plt.plot(history.history['val_'+string])\n",
        "  plt.xlabel(\"Epochs\")\n",
        "  plt.ylabel(string)\n",
        "  plt.legend([string, 'val_'+string])\n",
        "  plt.show()\n",
        "  \n",
        "plot_graphs(history, \"accuracy\")\n",
        "plot_graphs(history, \"loss\")"
      ],
      "execution_count": 170,
      "outputs": [
        {
          "output_type": "display_data",
          "data": {
            "text/plain": [
              "<Figure size 432x288 with 1 Axes>"
            ],
            "image/png": "[encoded data removed]"
          },
          "metadata": {
            "needs_background": "light"
          }
        },
        {
          "output_type": "display_data",
          "data": {
            "text/plain": [
              "<Figure size 432x288 with 1 Axes>"
            ],
            "image/png": "[encoded data removed]"
          },
          "metadata": {
            "needs_background": "light"
          }
        }
      ]
    },
    {
      "cell_type": "code",
      "metadata": {
        "id": "7SBdAZAenvzL",
        "outputId": "f0931cd9-8c5c-4398-987a-ce4435f5fe10",
        "colab": {
          "base_uri": "https://localhost:8080/"
        }
      },
      "source": [
        "reverse_word_index = dict([(value, key) for (key, value) in word_index.items()])\n",
        "\n",
        "def decode_sentence(text):\n",
        "    return ' '.join([reverse_word_index.get(i, '?') for i in text])\n",
        "\n",
        "print(decode_sentence(training_padded[0]))\n",
        "print(training_sentences[2])\n",
        "print(labels[2])"
      ],
      "execution_count": 171,
      "outputs": [
        {
          "output_type": "stream",
          "name": "stdout",
          "text": [
            "former <OOV> store <OOV> <OOV> over secret <OOV> <OOV> for <OOV> <OOV> ? ? ? ? ? ? ? ?\n",
            "mom starting to fear son's web series closest thing she will have to grandchild\n",
            "1\n"
          ]
        }
      ]
    },
    {
      "cell_type": "code",
      "metadata": {
        "id": "c9MqihtEkzQ9",
        "outputId": "af8fcf11-073c-4537-ab74-e642a20023ed",
        "colab": {
          "base_uri": "https://localhost:8080/"
        }
      },
      "source": [
        "e = model.layers[0]\n",
        "weights = e.get_weights()[0]\n",
        "print(weights.shape) # shape: (vocab_size, embedding_dim)\n"
      ],
      "execution_count": 172,
      "outputs": [
        {
          "output_type": "stream",
          "name": "stdout",
          "text": [
            "(1200, 32)\n"
          ]
        }
      ]
    },
    {
      "cell_type": "code",
      "metadata": {
        "id": "LoBXVffknldU"
      },
      "source": [
        "import io\n",
        "\n",
        "out_v = io.open('vecs.tsv', 'w', encoding='utf-8')\n",
        "out_m = io.open('meta.tsv', 'w', encoding='utf-8')\n",
        "for word_num in range(1, vocab_size):\n",
        "  word = reverse_word_index[word_num]\n",
        "  embeddings = weights[word_num]\n",
        "  out_m.write(word + \"\\n\")\n",
        "  out_v.write('\\t'.join([str(x) for x in embeddings]) + \"\\n\")\n",
        "out_v.close()\n",
        "out_m.close()"
      ],
      "execution_count": 173,
      "outputs": []
    },
    {
      "cell_type": "code",
      "metadata": {
        "id": "U4eZ5HtVnnEE"
      },
      "source": [
        "try:\n",
        "  from google.colab import files\n",
        "except ImportError:\n",
        "  pass\n",
        "else:\n",
        "  files.download('vecs.tsv')\n",
        "  files.download('meta.tsv')"
      ],
      "execution_count": null,
      "outputs": []
    },
    {
      "cell_type": "code",
      "metadata": {
        "id": "cG8-ArY-qDcz",
        "outputId": "26ef311e-580a-4eed-9b31-c29575e9dd5c",
        "colab": {
          "base_uri": "https://localhost:8080/"
        }
      },
      "source": [
        "sentence = [\"granny starting to fear spiders in the garden might be real\", \"game of thrones season finale showing this sunday night\"]\n",
        "sequences = tokenizer.texts_to_sequences(sentence)\n",
        "padded = pad_sequences(sequences, maxlen=max_length, padding=padding_type, truncating=trunc_type)\n",
        "print(model.predict(padded))"
      ],
      "execution_count": 174,
      "outputs": [
        {
          "output_type": "stream",
          "name": "stdout",
          "text": [
            "[[0.22332364]\n",
            " [0.6877259 ]]\n"
          ]
        }
      ]
    },
    {
      "cell_type": "code",
      "metadata": {
        "id": "xPFObL3nSM2m"
      },
      "source": [
        ""
      ],
      "execution_count": null,
      "outputs": []
    }
  ]
}