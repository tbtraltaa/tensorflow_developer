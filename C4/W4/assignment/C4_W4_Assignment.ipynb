{
  "nbformat": 4,
  "nbformat_minor": 0,
  "metadata": {
    "accelerator": "GPU",
    "colab": {
      "name": "C4_W4_Assignment.ipynb",
      "provenance": [],
      "collapsed_sections": [],
      "toc_visible": true,
      "include_colab_link": true
    },
    "kernelspec": {
      "display_name": "Python 3",
      "language": "python",
      "name": "python3"
    },
    "language_info": {
      "codemirror_mode": {
        "name": "ipython",
        "version": 3
      },
      "file_extension": ".py",
      "mimetype": "text/x-python",
      "name": "python",
      "nbconvert_exporter": "python",
      "pygments_lexer": "ipython3",
      "version": "3.8.5"
    }
  },
  "cells": [
    {
      "cell_type": "markdown",
      "metadata": {
        "id": "view-in-github",
        "colab_type": "text"
      },
      "source": [
        "<a href=\"https://colab.research.google.com/github/tbtraltaa/tensorflow_developer/blob/main/C4/W4/assignment/C4_W4_Assignment.ipynb\" target=\"_parent\"><img src=\"https://colab.research.google.com/assets/colab-badge.svg\" alt=\"Open In Colab\"/></a>"
      ]
    },
    {
      "cell_type": "code",
      "metadata": {
        "id": "zX4Kg8DUTKWO"
      },
      "source": [
        "#@title Licensed under the Apache License, Version 2.0 (the \"License\");\n",
        "# you may not use this file except in compliance with the License.\n",
        "# You may obtain a copy of the License at\n",
        "#\n",
        "# https://www.apache.org/licenses/LICENSE-2.0\n",
        "#\n",
        "# Unless required by applicable law or agreed to in writing, software\n",
        "# distributed under the License is distributed on an \"AS IS\" BASIS,\n",
        "# WITHOUT WARRANTIES OR CONDITIONS OF ANY KIND, either express or implied.\n",
        "# See the License for the specific language governing permissions and\n",
        "# limitations under the License."
      ],
      "execution_count": null,
      "outputs": []
    },
    {
      "cell_type": "markdown",
      "metadata": {
        "id": "1m0njwZtsvy_"
      },
      "source": [
        "**Note:** This notebook can run using TensorFlow 2.5.0"
      ]
    },
    {
      "cell_type": "code",
      "metadata": {
        "id": "D5DDeGwLsvzA"
      },
      "source": [
        "#!pip install tensorflow==2.5.0"
      ],
      "execution_count": null,
      "outputs": []
    },
    {
      "cell_type": "code",
      "metadata": {
        "id": "56XEQOGknrAk",
        "colab": {
          "base_uri": "https://localhost:8080/"
        },
        "outputId": "3edb0846-eca3-4e41-8701-a2dd754aa695"
      },
      "source": [
        "import tensorflow as tf\n",
        "print(tf.__version__)"
      ],
      "execution_count": 36,
      "outputs": [
        {
          "output_type": "stream",
          "name": "stdout",
          "text": [
            "2.8.0\n"
          ]
        }
      ]
    },
    {
      "cell_type": "code",
      "metadata": {
        "id": "sLl52leVp5wU"
      },
      "source": [
        "import numpy as np\n",
        "import matplotlib.pyplot as plt\n",
        "def plot_series(time, series, format=\"-\", start=0, end=None):\n",
        "    plt.plot(time[start:end], series[start:end], format)\n",
        "    plt.xlabel(\"Time\")\n",
        "    plt.ylabel(\"Value\")\n",
        "    plt.grid(True)"
      ],
      "execution_count": 37,
      "outputs": []
    },
    {
      "cell_type": "code",
      "metadata": {
        "id": "tP7oqUdkk0gY",
        "colab": {
          "base_uri": "https://localhost:8080/"
        },
        "outputId": "06960ee4-33b2-432e-880c-16a67f10d7b9"
      },
      "source": [
        "!wget --no-check-certificate \\\n",
        "    https://raw.githubusercontent.com/jbrownlee/Datasets/master/daily-min-temperatures.csv \\\n",
        "    -O /tmp/daily-min-temperatures.csv"
      ],
      "execution_count": 38,
      "outputs": [
        {
          "output_type": "stream",
          "name": "stdout",
          "text": [
            "--2022-03-26 10:26:19--  https://raw.githubusercontent.com/jbrownlee/Datasets/master/daily-min-temperatures.csv\n",
            "Resolving raw.githubusercontent.com (raw.githubusercontent.com)... 185.199.108.133, 185.199.109.133, 185.199.110.133, ...\n",
            "Connecting to raw.githubusercontent.com (raw.githubusercontent.com)|185.199.108.133|:443... connected.\n",
            "HTTP request sent, awaiting response... 200 OK\n",
            "Length: 67921 (66K) [text/plain]\n",
            "Saving to: ‘/tmp/daily-min-temperatures.csv’\n",
            "\n",
            "\r          /tmp/dail   0%[                    ]       0  --.-KB/s               \r/tmp/daily-min-temp 100%[===================>]  66.33K  --.-KB/s    in 0.01s   \n",
            "\n",
            "2022-03-26 10:26:19 (5.60 MB/s) - ‘/tmp/daily-min-temperatures.csv’ saved [67921/67921]\n",
            "\n"
          ]
        }
      ]
    },
    {
      "cell_type": "code",
      "metadata": {
        "id": "NcG9r1eClbTh",
        "colab": {
          "base_uri": "https://localhost:8080/",
          "height": 388
        },
        "outputId": "f8ca6fe7-a4d9-4c4d-ebf4-b7f9bccb7d33"
      },
      "source": [
        "import csv\n",
        "time_step = []\n",
        "temps = []\n",
        "\n",
        "with open('/tmp/daily-min-temperatures.csv') as csvfile:\n",
        "# YOUR CODE HERE. READ TEMPERATURES INTO TEMPS\n",
        "# HAVE TIME STEPS BE A SIMPLE ARRAY OF 1, 2, 3, 4 etc\n",
        "  reader = csv.reader(csvfile, delimiter=',')\n",
        "  next(reader)\n",
        "  for i, row in enumerate(reader):\n",
        "    time_step.append(i)\n",
        "    temps.append(float(row[1]))\n",
        "\n",
        "series = np.array(temps)\n",
        "time = np.array(time_step)\n",
        "plt.figure(figsize=(10, 6))\n",
        "plot_series(time, series)"
      ],
      "execution_count": 39,
      "outputs": [
        {
          "output_type": "display_data",
          "data": {
            "text/plain": [
              "<Figure size 720x432 with 1 Axes>"
            ],
            "image/png": "[encoded data removed]"
          },
          "metadata": {
            "needs_background": "light"
          }
        }
      ]
    },
    {
      "cell_type": "code",
      "metadata": {
        "id": "L92YRw_IpCFG"
      },
      "source": [
        "split_time = 2500\n",
        "time_train = time[:split_time]# YOUR CODE HERE\n",
        "x_train = series[:split_time]# YOUR CODE HERE\n",
        "time_valid = time[split_time:]# YOUR CODE HERE\n",
        "x_valid = series[split_time:]# YOUR CODE HERE\n",
        "\n",
        "window_size = 30\n",
        "batch_size = 32\n",
        "shuffle_buffer_size = 1000\n"
      ],
      "execution_count": 44,
      "outputs": []
    },
    {
      "cell_type": "code",
      "metadata": {
        "id": "lJwUUZscnG38"
      },
      "source": [
        "def windowed_dataset(series, window_size, batch_size, shuffle_buffer):\n",
        "    # YOUR CODE HERE\n",
        "    series = tf.expand_dims(series, axis=-1)\n",
        "    dataset = tf.data.Dataset.from_tensor_slices(series)\n",
        "    dataset = dataset.window(window_size+1, shift=1, drop_remainder=True)\n",
        "    dataset = dataset.flat_map(lambda w: w.batch(window_size+1))\n",
        "    dataset = dataset.shuffle(shuffle_buffer_size)\n",
        "    dataset = dataset.map(lambda w: (w[:-1], w[-1:]))\n",
        "    return dataset.batch(batch_size).prefetch(1)"
      ],
      "execution_count": 46,
      "outputs": []
    },
    {
      "cell_type": "code",
      "metadata": {
        "id": "4XwGrf-A_wF0"
      },
      "source": [
        "def model_forecast(model, series, window_size):\n",
        "    # YOUR CODE HERE\n",
        "    ds = tf.data.Dataset.from_tensor_slices(series)\n",
        "    ds = ds.window(window_size, shift=1, drop_remainder=True)\n",
        "    ds = ds.flat_map(lambda w: w.batch(window_size))\n",
        "    ds = ds.batch(32).prefetch(1)\n",
        "    return model.predict(ds)\n"
      ],
      "execution_count": 47,
      "outputs": []
    },
    {
      "cell_type": "code",
      "metadata": {
        "id": "AclfYY3Mn6Ph",
        "colab": {
          "base_uri": "https://localhost:8080/"
        },
        "outputId": "5945751f-7fec-483a-fde0-d9e56957298d"
      },
      "source": [
        "tf.keras.backend.clear_session()\n",
        "tf.random.set_seed(51)\n",
        "np.random.seed(51)\n",
        "window_size = 64\n",
        "batch_size = 256\n",
        "train_set = windowed_dataset(x_train, window_size, batch_size, shuffle_buffer_size)\n",
        "print(train_set)\n",
        "print(x_train.shape)\n",
        "\n",
        "model = tf.keras.models.Sequential([\n",
        "# YOUR CODE HERE\n",
        "tf.keras.layers.Conv1D(32, kernel_size=5, strides=1, padding='causal',\n",
        "                       activation='relu', input_shape=[None, 1]),\n",
        "tf.keras.layers.LSTM(64, return_sequences=True),\n",
        "tf.keras.layers.LSTM(64, return_sequences=True),\n",
        "tf.keras.layers.Dense(30, activation='relu'),\n",
        "tf.keras.layers.Dense(10, activation='relu'),\n",
        "tf.keras.layers.Dense(1),\n",
        "tf.keras.layers.Lambda(lambda x: x*400)\n",
        "])\n",
        "\n",
        "lr_schedule = tf.keras.callbacks.LearningRateScheduler(\n",
        "    lambda epoch: 1e-8 * 10**(epoch / 20))\n",
        "optimizer = tf.keras.optimizers.SGD(learning_rate=1e-8, momentum=0.9)\n",
        "model.compile(loss=tf.keras.losses.Huber(),\n",
        "              optimizer=optimizer,\n",
        "              metrics=[\"mae\"])\n",
        "history = model.fit(train_set, epochs=100, callbacks=[lr_schedule])\n"
      ],
      "execution_count": 48,
      "outputs": [
        {
          "output_type": "stream",
          "name": "stdout",
          "text": [
            "<PrefetchDataset element_spec=(TensorSpec(shape=(None, None, 1), dtype=tf.float64, name=None), TensorSpec(shape=(None, None, 1), dtype=tf.float64, name=None))>\n",
            "(2500,)\n",
            "Epoch 1/100\n",
            "10/10 [==============================] - 5s 47ms/step - loss: 31.1418 - mae: 31.6401 - lr: 1.0000e-08\n",
            "Epoch 2/100\n",
            "10/10 [==============================] - 1s 61ms/step - loss: 30.5657 - mae: 31.0639 - lr: 1.1220e-08\n",
            "Epoch 3/100\n",
            "10/10 [==============================] - 1s 61ms/step - loss: 29.6745 - mae: 30.1726 - lr: 1.2589e-08\n",
            "Epoch 4/100\n",
            "10/10 [==============================] - 1s 63ms/step - loss: 28.5571 - mae: 29.0549 - lr: 1.4125e-08\n",
            "Epoch 5/100\n",
            "10/10 [==============================] - 1s 64ms/step - loss: 27.1948 - mae: 27.6923 - lr: 1.5849e-08\n",
            "Epoch 6/100\n",
            "10/10 [==============================] - 1s 59ms/step - loss: 25.4979 - mae: 25.9952 - lr: 1.7783e-08\n",
            "Epoch 7/100\n",
            "10/10 [==============================] - 1s 60ms/step - loss: 23.3389 - mae: 23.8356 - lr: 1.9953e-08\n",
            "Epoch 8/100\n",
            "10/10 [==============================] - 1s 61ms/step - loss: 20.5994 - mae: 21.0955 - lr: 2.2387e-08\n",
            "Epoch 9/100\n",
            "10/10 [==============================] - 1s 63ms/step - loss: 17.2908 - mae: 17.7857 - lr: 2.5119e-08\n",
            "Epoch 10/100\n",
            "10/10 [==============================] - 1s 85ms/step - loss: 13.6041 - mae: 14.0968 - lr: 2.8184e-08\n",
            "Epoch 11/100\n",
            "10/10 [==============================] - 1s 62ms/step - loss: 10.0206 - mae: 10.5085 - lr: 3.1623e-08\n",
            "Epoch 12/100\n",
            "10/10 [==============================] - 1s 63ms/step - loss: 7.4651 - mae: 7.9498 - lr: 3.5481e-08\n",
            "Epoch 13/100\n",
            "10/10 [==============================] - 1s 61ms/step - loss: 6.1468 - mae: 6.6309 - lr: 3.9811e-08\n",
            "Epoch 14/100\n",
            "10/10 [==============================] - 1s 60ms/step - loss: 5.6191 - mae: 6.1022 - lr: 4.4668e-08\n",
            "Epoch 15/100\n",
            "10/10 [==============================] - 1s 62ms/step - loss: 5.3044 - mae: 5.7859 - lr: 5.0119e-08\n",
            "Epoch 16/100\n",
            "10/10 [==============================] - 1s 61ms/step - loss: 4.9646 - mae: 5.4444 - lr: 5.6234e-08\n",
            "Epoch 17/100\n",
            "10/10 [==============================] - 1s 64ms/step - loss: 4.6499 - mae: 5.1280 - lr: 6.3096e-08\n",
            "Epoch 18/100\n",
            "10/10 [==============================] - 1s 63ms/step - loss: 4.3823 - mae: 4.8587 - lr: 7.0795e-08\n",
            "Epoch 19/100\n",
            "10/10 [==============================] - 1s 63ms/step - loss: 4.1549 - mae: 4.6301 - lr: 7.9433e-08\n",
            "Epoch 20/100\n",
            "10/10 [==============================] - 1s 61ms/step - loss: 3.9764 - mae: 4.4508 - lr: 8.9125e-08\n",
            "Epoch 21/100\n",
            "10/10 [==============================] - 1s 62ms/step - loss: 3.8472 - mae: 4.3210 - lr: 1.0000e-07\n",
            "Epoch 22/100\n",
            "10/10 [==============================] - 1s 64ms/step - loss: 3.7497 - mae: 4.2230 - lr: 1.1220e-07\n",
            "Epoch 23/100\n",
            "10/10 [==============================] - 1s 61ms/step - loss: 3.6775 - mae: 4.1504 - lr: 1.2589e-07\n",
            "Epoch 24/100\n",
            "10/10 [==============================] - 1s 64ms/step - loss: 3.6215 - mae: 4.0940 - lr: 1.4125e-07\n",
            "Epoch 25/100\n",
            "10/10 [==============================] - 1s 62ms/step - loss: 3.5693 - mae: 4.0412 - lr: 1.5849e-07\n",
            "Epoch 26/100\n",
            "10/10 [==============================] - 1s 64ms/step - loss: 3.5266 - mae: 3.9982 - lr: 1.7783e-07\n",
            "Epoch 27/100\n",
            "10/10 [==============================] - 1s 63ms/step - loss: 3.4763 - mae: 3.9475 - lr: 1.9953e-07\n",
            "Epoch 28/100\n",
            "10/10 [==============================] - 1s 63ms/step - loss: 3.4323 - mae: 3.9033 - lr: 2.2387e-07\n",
            "Epoch 29/100\n",
            "10/10 [==============================] - 1s 64ms/step - loss: 3.3831 - mae: 3.8536 - lr: 2.5119e-07\n",
            "Epoch 30/100\n",
            "10/10 [==============================] - 1s 65ms/step - loss: 3.3351 - mae: 3.8052 - lr: 2.8184e-07\n",
            "Epoch 31/100\n",
            "10/10 [==============================] - 1s 65ms/step - loss: 3.2897 - mae: 3.7595 - lr: 3.1623e-07\n",
            "Epoch 32/100\n",
            "10/10 [==============================] - 1s 63ms/step - loss: 3.2432 - mae: 3.7126 - lr: 3.5481e-07\n",
            "Epoch 33/100\n",
            "10/10 [==============================] - 1s 65ms/step - loss: 3.1847 - mae: 3.6537 - lr: 3.9811e-07\n",
            "Epoch 34/100\n",
            "10/10 [==============================] - 1s 63ms/step - loss: 3.1431 - mae: 3.6116 - lr: 4.4668e-07\n",
            "Epoch 35/100\n",
            "10/10 [==============================] - 1s 66ms/step - loss: 3.0881 - mae: 3.5562 - lr: 5.0119e-07\n",
            "Epoch 36/100\n",
            "10/10 [==============================] - 1s 66ms/step - loss: 3.0438 - mae: 3.5115 - lr: 5.6234e-07\n",
            "Epoch 37/100\n",
            "10/10 [==============================] - 1s 66ms/step - loss: 2.9968 - mae: 3.4639 - lr: 6.3096e-07\n",
            "Epoch 38/100\n",
            "10/10 [==============================] - 1s 65ms/step - loss: 2.9546 - mae: 3.4214 - lr: 7.0795e-07\n",
            "Epoch 39/100\n",
            "10/10 [==============================] - 1s 64ms/step - loss: 2.9095 - mae: 3.3757 - lr: 7.9433e-07\n",
            "Epoch 40/100\n",
            "10/10 [==============================] - 1s 65ms/step - loss: 2.8767 - mae: 3.3429 - lr: 8.9125e-07\n",
            "Epoch 41/100\n",
            "10/10 [==============================] - 1s 68ms/step - loss: 2.8714 - mae: 3.3384 - lr: 1.0000e-06\n",
            "Epoch 42/100\n",
            "10/10 [==============================] - 1s 64ms/step - loss: 2.7861 - mae: 3.2513 - lr: 1.1220e-06\n",
            "Epoch 43/100\n",
            "10/10 [==============================] - 1s 66ms/step - loss: 2.7542 - mae: 3.2195 - lr: 1.2589e-06\n",
            "Epoch 44/100\n",
            "10/10 [==============================] - 1s 65ms/step - loss: 2.7165 - mae: 3.1806 - lr: 1.4125e-06\n",
            "Epoch 45/100\n",
            "10/10 [==============================] - 1s 67ms/step - loss: 2.7127 - mae: 3.1776 - lr: 1.5849e-06\n",
            "Epoch 46/100\n",
            "10/10 [==============================] - 1s 65ms/step - loss: 2.6474 - mae: 3.1120 - lr: 1.7783e-06\n",
            "Epoch 47/100\n",
            "10/10 [==============================] - 1s 66ms/step - loss: 2.6085 - mae: 3.0713 - lr: 1.9953e-06\n",
            "Epoch 48/100\n",
            "10/10 [==============================] - 1s 64ms/step - loss: 2.5747 - mae: 3.0376 - lr: 2.2387e-06\n",
            "Epoch 49/100\n",
            "10/10 [==============================] - 1s 65ms/step - loss: 2.5338 - mae: 2.9966 - lr: 2.5119e-06\n",
            "Epoch 50/100\n",
            "10/10 [==============================] - 1s 65ms/step - loss: 2.5562 - mae: 3.0195 - lr: 2.8184e-06\n",
            "Epoch 51/100\n",
            "10/10 [==============================] - 1s 65ms/step - loss: 2.5759 - mae: 3.0400 - lr: 3.1623e-06\n",
            "Epoch 52/100\n",
            "10/10 [==============================] - 1s 68ms/step - loss: 2.4854 - mae: 2.9475 - lr: 3.5481e-06\n",
            "Epoch 53/100\n",
            "10/10 [==============================] - 1s 63ms/step - loss: 2.4569 - mae: 2.9181 - lr: 3.9811e-06\n",
            "Epoch 54/100\n",
            "10/10 [==============================] - 1s 63ms/step - loss: 2.4787 - mae: 2.9414 - lr: 4.4668e-06\n",
            "Epoch 55/100\n",
            "10/10 [==============================] - 1s 63ms/step - loss: 2.4224 - mae: 2.8830 - lr: 5.0119e-06\n",
            "Epoch 56/100\n",
            "10/10 [==============================] - 1s 61ms/step - loss: 2.5086 - mae: 2.9715 - lr: 5.6234e-06\n",
            "Epoch 57/100\n",
            "10/10 [==============================] - 1s 62ms/step - loss: 2.5131 - mae: 2.9766 - lr: 6.3096e-06\n",
            "Epoch 58/100\n",
            "10/10 [==============================] - 1s 62ms/step - loss: 2.5454 - mae: 3.0102 - lr: 7.0795e-06\n",
            "Epoch 59/100\n",
            "10/10 [==============================] - 1s 65ms/step - loss: 2.6317 - mae: 3.0966 - lr: 7.9433e-06\n",
            "Epoch 60/100\n",
            "10/10 [==============================] - 1s 64ms/step - loss: 2.6300 - mae: 3.0953 - lr: 8.9125e-06\n",
            "Epoch 61/100\n",
            "10/10 [==============================] - 1s 64ms/step - loss: 2.8616 - mae: 3.3291 - lr: 1.0000e-05\n",
            "Epoch 62/100\n",
            "10/10 [==============================] - 1s 62ms/step - loss: 2.7834 - mae: 3.2484 - lr: 1.1220e-05\n",
            "Epoch 63/100\n",
            "10/10 [==============================] - 1s 64ms/step - loss: 3.3106 - mae: 3.7842 - lr: 1.2589e-05\n",
            "Epoch 64/100\n",
            "10/10 [==============================] - 1s 63ms/step - loss: 3.6298 - mae: 4.1039 - lr: 1.4125e-05\n",
            "Epoch 65/100\n",
            "10/10 [==============================] - 1s 64ms/step - loss: 4.0614 - mae: 4.5421 - lr: 1.5849e-05\n",
            "Epoch 66/100\n",
            "10/10 [==============================] - 1s 63ms/step - loss: 4.2129 - mae: 4.6901 - lr: 1.7783e-05\n",
            "Epoch 67/100\n",
            "10/10 [==============================] - 1s 62ms/step - loss: 4.3461 - mae: 4.8257 - lr: 1.9953e-05\n",
            "Epoch 68/100\n",
            "10/10 [==============================] - 1s 63ms/step - loss: 5.3084 - mae: 5.7965 - lr: 2.2387e-05\n",
            "Epoch 69/100\n",
            "10/10 [==============================] - 1s 58ms/step - loss: 4.6516 - mae: 5.1320 - lr: 2.5119e-05\n",
            "Epoch 70/100\n",
            "10/10 [==============================] - 1s 60ms/step - loss: 5.3920 - mae: 5.8761 - lr: 2.8184e-05\n",
            "Epoch 71/100\n",
            "10/10 [==============================] - 1s 60ms/step - loss: 5.6240 - mae: 6.1125 - lr: 3.1623e-05\n",
            "Epoch 72/100\n",
            "10/10 [==============================] - 1s 63ms/step - loss: 4.8843 - mae: 5.3639 - lr: 3.5481e-05\n",
            "Epoch 73/100\n",
            "10/10 [==============================] - 1s 62ms/step - loss: 5.6324 - mae: 6.1147 - lr: 3.9811e-05\n",
            "Epoch 74/100\n",
            "10/10 [==============================] - 1s 63ms/step - loss: 4.5601 - mae: 5.0426 - lr: 4.4668e-05\n",
            "Epoch 75/100\n",
            "10/10 [==============================] - 1s 63ms/step - loss: 4.3239 - mae: 4.8077 - lr: 5.0119e-05\n",
            "Epoch 76/100\n",
            "10/10 [==============================] - 1s 63ms/step - loss: 3.9921 - mae: 4.4719 - lr: 5.6234e-05\n",
            "Epoch 77/100\n",
            "10/10 [==============================] - 1s 63ms/step - loss: 4.6480 - mae: 5.1250 - lr: 6.3096e-05\n",
            "Epoch 78/100\n",
            "10/10 [==============================] - 1s 62ms/step - loss: 5.3158 - mae: 5.7967 - lr: 7.0795e-05\n",
            "Epoch 79/100\n",
            "10/10 [==============================] - 1s 61ms/step - loss: 5.1991 - mae: 5.6849 - lr: 7.9433e-05\n",
            "Epoch 80/100\n",
            "10/10 [==============================] - 1s 64ms/step - loss: 6.0327 - mae: 6.5215 - lr: 8.9125e-05\n",
            "Epoch 81/100\n",
            "10/10 [==============================] - 1s 63ms/step - loss: 7.2567 - mae: 7.7497 - lr: 1.0000e-04\n",
            "Epoch 82/100\n",
            "10/10 [==============================] - 1s 63ms/step - loss: 8.4700 - mae: 8.9653 - lr: 1.1220e-04\n",
            "Epoch 83/100\n",
            "10/10 [==============================] - 1s 63ms/step - loss: 9.8049 - mae: 10.3026 - lr: 1.2589e-04\n",
            "Epoch 84/100\n",
            "10/10 [==============================] - 1s 62ms/step - loss: 11.2795 - mae: 11.7791 - lr: 1.4125e-04\n",
            "Epoch 85/100\n",
            "10/10 [==============================] - 1s 65ms/step - loss: 12.9121 - mae: 13.4118 - lr: 1.5849e-04\n",
            "Epoch 86/100\n",
            "10/10 [==============================] - 1s 67ms/step - loss: 14.2804 - mae: 14.7801 - lr: 1.7783e-04\n",
            "Epoch 87/100\n",
            "10/10 [==============================] - 1s 64ms/step - loss: 16.0983 - mae: 16.5983 - lr: 1.9953e-04\n",
            "Epoch 88/100\n",
            "10/10 [==============================] - 1s 63ms/step - loss: 18.2707 - mae: 18.7707 - lr: 2.2387e-04\n",
            "Epoch 89/100\n",
            "10/10 [==============================] - 1s 67ms/step - loss: 20.4294 - mae: 20.9294 - lr: 2.5119e-04\n",
            "Epoch 90/100\n",
            "10/10 [==============================] - 1s 67ms/step - loss: 23.1718 - mae: 23.6718 - lr: 2.8184e-04\n",
            "Epoch 91/100\n",
            "10/10 [==============================] - 1s 63ms/step - loss: 25.8310 - mae: 26.3310 - lr: 3.1623e-04\n",
            "Epoch 92/100\n",
            "10/10 [==============================] - 1s 64ms/step - loss: 29.2866 - mae: 29.7866 - lr: 3.5481e-04\n",
            "Epoch 93/100\n",
            "10/10 [==============================] - 1s 62ms/step - loss: 32.5353 - mae: 33.0353 - lr: 3.9811e-04\n",
            "Epoch 94/100\n",
            "10/10 [==============================] - 1s 64ms/step - loss: 36.9771 - mae: 37.4771 - lr: 4.4668e-04\n",
            "Epoch 95/100\n",
            "10/10 [==============================] - 1s 66ms/step - loss: 41.2068 - mae: 41.7068 - lr: 5.0119e-04\n",
            "Epoch 96/100\n",
            "10/10 [==============================] - 1s 62ms/step - loss: 46.6188 - mae: 47.1188 - lr: 5.6234e-04\n",
            "Epoch 97/100\n",
            "10/10 [==============================] - 1s 60ms/step - loss: 52.0938 - mae: 52.5938 - lr: 6.3096e-04\n",
            "Epoch 98/100\n",
            "10/10 [==============================] - 1s 67ms/step - loss: 58.9043 - mae: 59.4043 - lr: 7.0795e-04\n",
            "Epoch 99/100\n",
            "10/10 [==============================] - 1s 65ms/step - loss: 65.6091 - mae: 66.1091 - lr: 7.9433e-04\n",
            "Epoch 100/100\n",
            "10/10 [==============================] - 1s 66ms/step - loss: 74.0615 - mae: 74.5615 - lr: 8.9125e-04\n"
          ]
        }
      ]
    },
    {
      "cell_type": "code",
      "metadata": {
        "id": "vVcKmg7Q_7rD",
        "colab": {
          "base_uri": "https://localhost:8080/",
          "height": 291
        },
        "outputId": "e637c338-649a-4065-f42b-a7d66caee696"
      },
      "source": [
        "plt.semilogx(history.history[\"lr\"], history.history[\"loss\"])\n",
        "plt.axis([1e-8, 1e-4, 0, 60])"
      ],
      "execution_count": 49,
      "outputs": [
        {
          "output_type": "execute_result",
          "data": {
            "text/plain": [
              "(1e-08, 0.0001, 0.0, 60.0)"
            ]
          },
          "metadata": {},
          "execution_count": 49
        },
        {
          "output_type": "display_data",
          "data": {
            "text/plain": [
              "<Figure size 432x288 with 1 Axes>"
            ],
            "image/png": "[encoded data removed]"
          },
          "metadata": {
            "needs_background": "light"
          }
        }
      ]
    },
    {
      "cell_type": "code",
      "metadata": {
        "id": "QsksvkcXAAgq",
        "colab": {
          "base_uri": "https://localhost:8080/"
        },
        "outputId": "14387aad-8c77-44ad-f855-81b21f87ed97"
      },
      "source": [
        "tf.keras.backend.clear_session()\n",
        "tf.random.set_seed(51)\n",
        "np.random.seed(51)\n",
        "train_set = windowed_dataset(x_train, window_size=60, batch_size=100, shuffle_buffer=shuffle_buffer_size)\n",
        "model = tf.keras.models.Sequential([\n",
        "# YOUR CODE HERE\n",
        "])\n",
        "\n",
        "\n",
        "optimizer = tf.keras.optimizers.SGD(learning_rate=# YOUR CODE HERE, momentum=0.9)\n",
        "model.compile(loss=tf.keras.losses.Huber(),\n",
        "              optimizer=optimizer,\n",
        "              metrics=[\"mae\"])\n",
        "history = model.fit(train_set,epochs=# YOUR CODE HERE)\n",
        "                                    \n",
        "# EXPECTED OUTPUT SHOULD SEE AN MAE OF <2 WITHIN ABOUT 30 EPOCHS"
      ],
      "execution_count": 34,
      "outputs": [
        {
          "metadata": {
            "tags": null
          },
          "name": "stdout",
          "output_type": "stream",
          "text": [
            "Epoch 1/150\n",
            "25/25 [==============================] - 5s 39ms/step - loss: 9.8779 - mae: 10.3645\n",
            "Epoch 2/150\n",
            "25/25 [==============================] - 1s 40ms/step - loss: 2.7308 - mae: 3.1968\n",
            "Epoch 3/150\n",
            "25/25 [==============================] - 1s 38ms/step - loss: 2.4405 - mae: 2.9030\n",
            "Epoch 4/150\n",
            "25/25 [==============================] - 1s 39ms/step - loss: 2.3559 - mae: 2.8171\n",
            "Epoch 5/150\n",
            "25/25 [==============================] - 1s 37ms/step - loss: 2.4620 - mae: 2.9241\n",
            "Epoch 6/150\n",
            "25/25 [==============================] - 1s 39ms/step - loss: 2.3701 - mae: 2.8315\n",
            "Epoch 7/150\n",
            "25/25 [==============================] - 1s 39ms/step - loss: 2.3196 - mae: 2.7794\n",
            "Epoch 8/150\n",
            "25/25 [==============================] - 1s 39ms/step - loss: 2.4254 - mae: 2.8876\n",
            "Epoch 9/150\n",
            "25/25 [==============================] - 1s 38ms/step - loss: 2.2868 - mae: 2.7469\n",
            "Epoch 10/150\n",
            "25/25 [==============================] - 1s 38ms/step - loss: 2.2923 - mae: 2.7517\n",
            "Epoch 11/150\n",
            "25/25 [==============================] - 1s 38ms/step - loss: 2.4218 - mae: 2.8833\n",
            "Epoch 12/150\n",
            "25/25 [==============================] - 1s 38ms/step - loss: 2.2883 - mae: 2.7483\n",
            "Epoch 13/150\n",
            "25/25 [==============================] - 1s 39ms/step - loss: 2.3001 - mae: 2.7602\n",
            "Epoch 14/150\n",
            "25/25 [==============================] - 1s 42ms/step - loss: 2.3846 - mae: 2.8473\n",
            "Epoch 15/150\n",
            "25/25 [==============================] - 1s 38ms/step - loss: 2.2679 - mae: 2.7262\n",
            "Epoch 16/150\n",
            "25/25 [==============================] - 1s 39ms/step - loss: 2.2731 - mae: 2.7322\n",
            "Epoch 17/150\n",
            "25/25 [==============================] - 1s 39ms/step - loss: 2.4093 - mae: 2.8697\n",
            "Epoch 18/150\n",
            "25/25 [==============================] - 1s 39ms/step - loss: 2.2843 - mae: 2.7439\n",
            "Epoch 19/150\n",
            "25/25 [==============================] - 1s 39ms/step - loss: 2.2912 - mae: 2.7518\n",
            "Epoch 20/150\n",
            "25/25 [==============================] - 1s 41ms/step - loss: 2.3539 - mae: 2.8153\n",
            "Epoch 21/150\n",
            "25/25 [==============================] - 1s 39ms/step - loss: 2.2785 - mae: 2.7395\n",
            "Epoch 22/150\n",
            "25/25 [==============================] - 1s 39ms/step - loss: 2.2279 - mae: 2.6869\n",
            "Epoch 23/150\n",
            "25/25 [==============================] - 1s 39ms/step - loss: 2.3389 - mae: 2.8004\n",
            "Epoch 24/150\n",
            "25/25 [==============================] - 1s 38ms/step - loss: 2.2072 - mae: 2.6654\n",
            "Epoch 25/150\n",
            "25/25 [==============================] - 1s 39ms/step - loss: 2.2250 - mae: 2.6836\n",
            "Epoch 26/150\n",
            "25/25 [==============================] - 1s 39ms/step - loss: 2.3261 - mae: 2.7869\n",
            "Epoch 27/150\n",
            "25/25 [==============================] - 1s 39ms/step - loss: 2.3274 - mae: 2.7880\n",
            "Epoch 28/150\n",
            "25/25 [==============================] - 1s 39ms/step - loss: 2.1962 - mae: 2.6537\n",
            "Epoch 29/150\n",
            "25/25 [==============================] - 1s 40ms/step - loss: 2.2510 - mae: 2.7101\n",
            "Epoch 30/150\n",
            "25/25 [==============================] - 1s 40ms/step - loss: 2.2794 - mae: 2.7388\n",
            "Epoch 31/150\n",
            "25/25 [==============================] - 1s 39ms/step - loss: 2.3743 - mae: 2.8357\n",
            "Epoch 32/150\n",
            "25/25 [==============================] - 1s 39ms/step - loss: 2.2592 - mae: 2.7182\n",
            "Epoch 33/150\n",
            "25/25 [==============================] - 1s 38ms/step - loss: 2.2635 - mae: 2.7243\n",
            "Epoch 34/150\n",
            "25/25 [==============================] - 1s 39ms/step - loss: 2.2819 - mae: 2.7414\n",
            "Epoch 35/150\n",
            "25/25 [==============================] - 1s 39ms/step - loss: 2.2111 - mae: 2.6689\n",
            "Epoch 36/150\n",
            "25/25 [==============================] - 1s 39ms/step - loss: 2.1852 - mae: 2.6440\n",
            "Epoch 37/150\n",
            "25/25 [==============================] - 1s 38ms/step - loss: 2.1922 - mae: 2.6501\n",
            "Epoch 38/150\n",
            "25/25 [==============================] - 1s 39ms/step - loss: 2.3523 - mae: 2.8130\n",
            "Epoch 39/150\n",
            "25/25 [==============================] - 1s 38ms/step - loss: 2.1869 - mae: 2.6442\n",
            "Epoch 40/150\n",
            "25/25 [==============================] - 1s 40ms/step - loss: 2.2607 - mae: 2.7201\n",
            "Epoch 41/150\n",
            "25/25 [==============================] - 1s 41ms/step - loss: 2.2699 - mae: 2.7294\n",
            "Epoch 42/150\n",
            "25/25 [==============================] - 1s 39ms/step - loss: 2.2678 - mae: 2.7289\n",
            "Epoch 43/150\n",
            "25/25 [==============================] - 1s 41ms/step - loss: 2.2611 - mae: 2.7212\n",
            "Epoch 44/150\n",
            "25/25 [==============================] - 1s 39ms/step - loss: 2.2160 - mae: 2.6749\n",
            "Epoch 45/150\n",
            "25/25 [==============================] - 1s 39ms/step - loss: 2.2829 - mae: 2.7422\n",
            "Epoch 46/150\n",
            "25/25 [==============================] - 1s 40ms/step - loss: 2.2360 - mae: 2.6948\n",
            "Epoch 47/150\n",
            "25/25 [==============================] - 1s 38ms/step - loss: 2.2794 - mae: 2.7394\n",
            "Epoch 48/150\n",
            "25/25 [==============================] - 1s 40ms/step - loss: 2.3149 - mae: 2.7759\n",
            "Epoch 49/150\n",
            "25/25 [==============================] - 1s 40ms/step - loss: 2.2244 - mae: 2.6831\n",
            "Epoch 50/150\n",
            "25/25 [==============================] - 2s 54ms/step - loss: 2.2884 - mae: 2.7485\n",
            "Epoch 51/150\n",
            "25/25 [==============================] - 1s 37ms/step - loss: 2.2688 - mae: 2.7283\n",
            "Epoch 52/150\n",
            "25/25 [==============================] - 1s 38ms/step - loss: 2.3647 - mae: 2.8272\n",
            "Epoch 53/150\n",
            "25/25 [==============================] - 1s 37ms/step - loss: 2.2589 - mae: 2.7201\n",
            "Epoch 54/150\n",
            "25/25 [==============================] - 1s 38ms/step - loss: 2.2169 - mae: 2.6749\n",
            "Epoch 55/150\n",
            "25/25 [==============================] - 1s 38ms/step - loss: 2.3454 - mae: 2.8063\n",
            "Epoch 56/150\n",
            "25/25 [==============================] - 1s 38ms/step - loss: 2.1805 - mae: 2.6385\n",
            "Epoch 57/150\n",
            "25/25 [==============================] - 1s 38ms/step - loss: 2.1967 - mae: 2.6552\n",
            "Epoch 58/150\n",
            "25/25 [==============================] - 1s 39ms/step - loss: 2.3391 - mae: 2.8005\n",
            "Epoch 59/150\n",
            "25/25 [==============================] - 1s 39ms/step - loss: 2.3007 - mae: 2.7598\n",
            "Epoch 60/150\n",
            "25/25 [==============================] - 1s 38ms/step - loss: 2.2575 - mae: 2.7172\n",
            "Epoch 61/150\n",
            "25/25 [==============================] - 1s 39ms/step - loss: 2.2092 - mae: 2.6679\n",
            "Epoch 62/150\n",
            "25/25 [==============================] - 1s 39ms/step - loss: 2.2689 - mae: 2.7293\n",
            "Epoch 63/150\n",
            "25/25 [==============================] - 1s 39ms/step - loss: 2.2087 - mae: 2.6674\n",
            "Epoch 64/150\n",
            "25/25 [==============================] - 1s 38ms/step - loss: 2.2189 - mae: 2.6789\n",
            "Epoch 65/150\n",
            "25/25 [==============================] - 1s 40ms/step - loss: 2.1952 - mae: 2.6526\n",
            "Epoch 66/150\n",
            "25/25 [==============================] - 1s 39ms/step - loss: 2.1737 - mae: 2.6314\n",
            "Epoch 67/150\n",
            "25/25 [==============================] - 1s 38ms/step - loss: 2.2105 - mae: 2.6693\n",
            "Epoch 68/150\n",
            "25/25 [==============================] - 1s 40ms/step - loss: 2.3042 - mae: 2.7663\n",
            "Epoch 69/150\n",
            "25/25 [==============================] - 1s 39ms/step - loss: 2.1982 - mae: 2.6562\n",
            "Epoch 70/150\n",
            "25/25 [==============================] - 1s 39ms/step - loss: 2.1708 - mae: 2.6288\n",
            "Epoch 71/150\n",
            "25/25 [==============================] - 1s 38ms/step - loss: 2.2243 - mae: 2.6843\n",
            "Epoch 72/150\n",
            "25/25 [==============================] - 1s 38ms/step - loss: 2.1763 - mae: 2.6345\n",
            "Epoch 73/150\n",
            "25/25 [==============================] - 1s 38ms/step - loss: 2.1883 - mae: 2.6459\n",
            "Epoch 74/150\n",
            "25/25 [==============================] - 1s 40ms/step - loss: 2.2477 - mae: 2.7070\n",
            "Epoch 75/150\n",
            "25/25 [==============================] - 1s 39ms/step - loss: 2.2818 - mae: 2.7417\n",
            "Epoch 76/150\n",
            "25/25 [==============================] - 1s 39ms/step - loss: 2.2426 - mae: 2.7026\n",
            "Epoch 77/150\n",
            "25/25 [==============================] - 1s 39ms/step - loss: 2.1657 - mae: 2.6235\n",
            "Epoch 78/150\n",
            "25/25 [==============================] - 1s 38ms/step - loss: 2.2585 - mae: 2.7188\n",
            "Epoch 79/150\n",
            "25/25 [==============================] - 1s 38ms/step - loss: 2.1655 - mae: 2.6224\n",
            "Epoch 80/150\n",
            "25/25 [==============================] - 1s 39ms/step - loss: 2.1955 - mae: 2.6539\n",
            "Epoch 81/150\n",
            "25/25 [==============================] - 1s 38ms/step - loss: 2.2002 - mae: 2.6604\n",
            "Epoch 82/150\n",
            "25/25 [==============================] - 1s 38ms/step - loss: 2.1980 - mae: 2.6558\n",
            "Epoch 83/150\n",
            "25/25 [==============================] - 1s 38ms/step - loss: 2.1862 - mae: 2.6439\n",
            "Epoch 84/150\n",
            "25/25 [==============================] - 1s 38ms/step - loss: 2.2606 - mae: 2.7200\n",
            "Epoch 85/150\n",
            "25/25 [==============================] - 1s 38ms/step - loss: 2.1644 - mae: 2.6217\n",
            "Epoch 86/150\n",
            "25/25 [==============================] - 1s 39ms/step - loss: 2.1813 - mae: 2.6397\n",
            "Epoch 87/150\n",
            "25/25 [==============================] - 1s 37ms/step - loss: 2.2490 - mae: 2.7082\n",
            "Epoch 88/150\n",
            "25/25 [==============================] - 1s 38ms/step - loss: 2.1527 - mae: 2.6098\n",
            "Epoch 89/150\n",
            "25/25 [==============================] - 1s 38ms/step - loss: 2.1690 - mae: 2.6271\n",
            "Epoch 90/150\n",
            "25/25 [==============================] - 1s 38ms/step - loss: 2.1699 - mae: 2.6272\n",
            "Epoch 91/150\n",
            "25/25 [==============================] - 1s 39ms/step - loss: 2.1816 - mae: 2.6397\n",
            "Epoch 92/150\n",
            "25/25 [==============================] - 1s 38ms/step - loss: 2.2169 - mae: 2.6751\n",
            "Epoch 93/150\n",
            "25/25 [==============================] - 1s 38ms/step - loss: 2.1923 - mae: 2.6502\n",
            "Epoch 94/150\n",
            "25/25 [==============================] - 1s 38ms/step - loss: 2.2275 - mae: 2.6861\n",
            "Epoch 95/150\n",
            "25/25 [==============================] - 1s 39ms/step - loss: 2.3178 - mae: 2.7787\n",
            "Epoch 96/150\n",
            "25/25 [==============================] - 1s 38ms/step - loss: 2.3383 - mae: 2.7988\n",
            "Epoch 97/150\n",
            "25/25 [==============================] - 1s 37ms/step - loss: 2.2438 - mae: 2.7035\n",
            "Epoch 98/150\n",
            "25/25 [==============================] - 1s 39ms/step - loss: 2.1674 - mae: 2.6245\n",
            "Epoch 99/150\n",
            "25/25 [==============================] - 1s 39ms/step - loss: 2.2208 - mae: 2.6797\n",
            "Epoch 100/150\n",
            "25/25 [==============================] - 1s 38ms/step - loss: 2.1966 - mae: 2.6547\n",
            "Epoch 101/150\n",
            "25/25 [==============================] - 1s 38ms/step - loss: 2.2289 - mae: 2.6871\n",
            "Epoch 102/150\n",
            "25/25 [==============================] - 1s 38ms/step - loss: 2.1679 - mae: 2.6247\n",
            "Epoch 103/150\n",
            "25/25 [==============================] - 1s 38ms/step - loss: 2.2538 - mae: 2.7128\n",
            "Epoch 104/150\n",
            "25/25 [==============================] - 1s 38ms/step - loss: 2.2179 - mae: 2.6751\n",
            "Epoch 105/150\n",
            "25/25 [==============================] - 1s 38ms/step - loss: 2.1859 - mae: 2.6444\n",
            "Epoch 106/150\n",
            "25/25 [==============================] - 1s 39ms/step - loss: 2.2080 - mae: 2.6664\n",
            "Epoch 107/150\n",
            "25/25 [==============================] - 1s 39ms/step - loss: 2.1763 - mae: 2.6335\n",
            "Epoch 108/150\n",
            "25/25 [==============================] - 1s 39ms/step - loss: 2.1653 - mae: 2.6224\n",
            "Epoch 109/150\n",
            "25/25 [==============================] - 1s 38ms/step - loss: 2.2018 - mae: 2.6609\n",
            "Epoch 110/150\n",
            "25/25 [==============================] - 1s 38ms/step - loss: 2.2101 - mae: 2.6668\n",
            "Epoch 111/150\n",
            "25/25 [==============================] - 1s 39ms/step - loss: 2.1710 - mae: 2.6291\n",
            "Epoch 112/150\n",
            "25/25 [==============================] - 1s 38ms/step - loss: 2.1625 - mae: 2.6192\n",
            "Epoch 113/150\n",
            "25/25 [==============================] - 1s 39ms/step - loss: 2.1734 - mae: 2.6299\n",
            "Epoch 114/150\n",
            "25/25 [==============================] - 1s 39ms/step - loss: 2.1764 - mae: 2.6335\n",
            "Epoch 115/150\n",
            "25/25 [==============================] - 1s 38ms/step - loss: 2.2206 - mae: 2.6795\n",
            "Epoch 116/150\n",
            "25/25 [==============================] - 1s 38ms/step - loss: 2.2161 - mae: 2.6763\n",
            "Epoch 117/150\n",
            "25/25 [==============================] - 1s 39ms/step - loss: 2.1684 - mae: 2.6258\n",
            "Epoch 118/150\n",
            "25/25 [==============================] - 1s 38ms/step - loss: 2.2001 - mae: 2.6585\n",
            "Epoch 119/150\n",
            "25/25 [==============================] - 1s 37ms/step - loss: 2.2251 - mae: 2.6844\n",
            "Epoch 120/150\n",
            "25/25 [==============================] - 1s 38ms/step - loss: 2.1632 - mae: 2.6198\n",
            "Epoch 121/150\n",
            "25/25 [==============================] - 1s 39ms/step - loss: 2.2059 - mae: 2.6648\n",
            "Epoch 122/150\n",
            "25/25 [==============================] - 1s 37ms/step - loss: 2.1804 - mae: 2.6375\n",
            "Epoch 123/150\n",
            "25/25 [==============================] - 1s 36ms/step - loss: 2.1577 - mae: 2.6147\n",
            "Epoch 124/150\n",
            "25/25 [==============================] - 1s 38ms/step - loss: 2.1662 - mae: 2.6230\n",
            "Epoch 125/150\n",
            "25/25 [==============================] - 1s 38ms/step - loss: 2.1900 - mae: 2.6481\n",
            "Epoch 126/150\n",
            "25/25 [==============================] - 1s 37ms/step - loss: 2.1657 - mae: 2.6236\n",
            "Epoch 127/150\n",
            "25/25 [==============================] - 1s 38ms/step - loss: 2.1923 - mae: 2.6506\n",
            "Epoch 128/150\n",
            "25/25 [==============================] - 1s 39ms/step - loss: 2.1819 - mae: 2.6397\n",
            "Epoch 129/150\n",
            "25/25 [==============================] - 1s 38ms/step - loss: 2.2220 - mae: 2.6798\n",
            "Epoch 130/150\n",
            "25/25 [==============================] - 1s 37ms/step - loss: 2.2230 - mae: 2.6808\n",
            "Epoch 131/150\n",
            "25/25 [==============================] - 1s 37ms/step - loss: 2.1857 - mae: 2.6437\n",
            "Epoch 132/150\n",
            "25/25 [==============================] - 1s 38ms/step - loss: 2.2041 - mae: 2.6632\n",
            "Epoch 133/150\n",
            "25/25 [==============================] - 1s 39ms/step - loss: 2.2220 - mae: 2.6799\n",
            "Epoch 134/150\n",
            "25/25 [==============================] - 1s 38ms/step - loss: 2.1920 - mae: 2.6501\n",
            "Epoch 135/150\n",
            "25/25 [==============================] - 1s 38ms/step - loss: 2.1618 - mae: 2.6185\n",
            "Epoch 136/150\n",
            "25/25 [==============================] - 1s 38ms/step - loss: 2.2097 - mae: 2.6679\n",
            "Epoch 137/150\n",
            "25/25 [==============================] - 1s 38ms/step - loss: 2.1734 - mae: 2.6313\n",
            "Epoch 138/150\n",
            "25/25 [==============================] - 1s 39ms/step - loss: 2.1684 - mae: 2.6259\n",
            "Epoch 139/150\n",
            "25/25 [==============================] - 1s 39ms/step - loss: 2.1637 - mae: 2.6215\n",
            "Epoch 140/150\n",
            "25/25 [==============================] - 1s 38ms/step - loss: 2.1702 - mae: 2.6270\n",
            "Epoch 141/150\n",
            "25/25 [==============================] - 1s 38ms/step - loss: 2.1754 - mae: 2.6336\n",
            "Epoch 142/150\n",
            "25/25 [==============================] - 1s 38ms/step - loss: 2.1727 - mae: 2.6300\n",
            "Epoch 143/150\n",
            "25/25 [==============================] - 1s 38ms/step - loss: 2.1725 - mae: 2.6302\n",
            "Epoch 144/150\n",
            "25/25 [==============================] - 1s 37ms/step - loss: 2.1649 - mae: 2.6225\n",
            "Epoch 145/150\n",
            "25/25 [==============================] - 1s 38ms/step - loss: 2.2426 - mae: 2.7018\n",
            "Epoch 146/150\n",
            "25/25 [==============================] - 1s 38ms/step - loss: 2.1629 - mae: 2.6198\n",
            "Epoch 147/150\n",
            "25/25 [==============================] - 1s 37ms/step - loss: 2.2177 - mae: 2.6767\n",
            "Epoch 148/150\n",
            "25/25 [==============================] - 1s 37ms/step - loss: 2.1786 - mae: 2.6361\n",
            "Epoch 149/150\n",
            "25/25 [==============================] - 1s 37ms/step - loss: 2.1986 - mae: 2.6558\n",
            "Epoch 150/150\n",
            "25/25 [==============================] - 1s 38ms/step - loss: 2.1719 - mae: 2.6287\n"
          ]
        }
      ]
    },
    {
      "cell_type": "code",
      "metadata": {
        "id": "GaC6NNMRp0lb",
        "colab": {
          "base_uri": "https://localhost:8080/",
          "height": 311
        },
        "outputId": "9835b311-28e1-47e3-bbf0-d473cacb0a5b"
      },
      "source": [
        "rnn_forecast = model_forecast(model, series[..., np.newaxis], window_size)\n",
        "rnn_forecast = rnn_forecast[split_time - window_size:-1, -1, 0]"
      ],
      "execution_count": 35,
      "outputs": [
        {
          "output_type": "error",
          "ename": "AttributeError",
          "evalue": "ignored",
          "traceback": [
            "\u001b[0;31m---------------------------------------------------------------------------\u001b[0m",
            "\u001b[0;31mAttributeError\u001b[0m                            Traceback (most recent call last)",
            "\u001b[0;32m<ipython-input-35-758da175dde7>\u001b[0m in \u001b[0;36m<module>\u001b[0;34m()\u001b[0m\n\u001b[0;32m----> 1\u001b[0;31m \u001b[0mrnn_forecast\u001b[0m \u001b[0;34m=\u001b[0m \u001b[0mmodel_forecast\u001b[0m\u001b[0;34m(\u001b[0m\u001b[0mmodel\u001b[0m\u001b[0;34m,\u001b[0m \u001b[0mseries\u001b[0m\u001b[0;34m[\u001b[0m\u001b[0;34m...\u001b[0m\u001b[0;34m,\u001b[0m \u001b[0mnp\u001b[0m\u001b[0;34m.\u001b[0m\u001b[0mnewaxis\u001b[0m\u001b[0;34m]\u001b[0m\u001b[0;34m,\u001b[0m \u001b[0mwindow_size\u001b[0m\u001b[0;34m)\u001b[0m\u001b[0;34m\u001b[0m\u001b[0;34m\u001b[0m\u001b[0m\n\u001b[0m\u001b[1;32m      2\u001b[0m \u001b[0mrnn_forecast\u001b[0m \u001b[0;34m=\u001b[0m \u001b[0mrnn_forecast\u001b[0m\u001b[0;34m[\u001b[0m\u001b[0msplit_time\u001b[0m \u001b[0;34m-\u001b[0m \u001b[0mwindow_size\u001b[0m\u001b[0;34m:\u001b[0m\u001b[0;34m-\u001b[0m\u001b[0;36m1\u001b[0m\u001b[0;34m,\u001b[0m \u001b[0;34m-\u001b[0m\u001b[0;36m1\u001b[0m\u001b[0;34m,\u001b[0m \u001b[0;36m0\u001b[0m\u001b[0;34m]\u001b[0m\u001b[0;34m\u001b[0m\u001b[0;34m\u001b[0m\u001b[0m\n",
            "\u001b[0;32m<ipython-input-31-ae30adcc015d>\u001b[0m in \u001b[0;36mmodel_forecast\u001b[0;34m(model, series, window_size)\u001b[0m\n\u001b[1;32m      4\u001b[0m     \u001b[0mdataset\u001b[0m \u001b[0;34m=\u001b[0m \u001b[0mdataset\u001b[0m\u001b[0;34m.\u001b[0m\u001b[0mwindow\u001b[0m\u001b[0;34m(\u001b[0m\u001b[0mwindow_size\u001b[0m\u001b[0;34m,\u001b[0m \u001b[0mshift\u001b[0m\u001b[0;34m=\u001b[0m\u001b[0;36m1\u001b[0m\u001b[0;34m,\u001b[0m \u001b[0mdrop_remainder\u001b[0m\u001b[0;34m=\u001b[0m\u001b[0;32mTrue\u001b[0m\u001b[0;34m)\u001b[0m\u001b[0;34m\u001b[0m\u001b[0;34m\u001b[0m\u001b[0m\n\u001b[1;32m      5\u001b[0m     \u001b[0mdataset\u001b[0m \u001b[0;34m=\u001b[0m \u001b[0mdataset\u001b[0m\u001b[0;34m.\u001b[0m\u001b[0mflat_map\u001b[0m\u001b[0;34m(\u001b[0m\u001b[0;32mlambda\u001b[0m \u001b[0mwindow\u001b[0m\u001b[0;34m:\u001b[0m \u001b[0mwindow\u001b[0m\u001b[0;34m.\u001b[0m\u001b[0mbatch\u001b[0m\u001b[0;34m(\u001b[0m\u001b[0mwindow_size\u001b[0m\u001b[0;34m)\u001b[0m\u001b[0;34m)\u001b[0m\u001b[0;34m\u001b[0m\u001b[0;34m\u001b[0m\u001b[0m\n\u001b[0;32m----> 6\u001b[0;31m     \u001b[0mdataset\u001b[0m \u001b[0;34m=\u001b[0m \u001b[0mdataset\u001b[0m\u001b[0;34m.\u001b[0m\u001b[0mbatch\u001b[0m\u001b[0;34m(\u001b[0m\u001b[0;36m32\u001b[0m\u001b[0;34m)\u001b[0m\u001b[0;34m.\u001b[0m\u001b[0mfetch\u001b[0m\u001b[0;34m(\u001b[0m\u001b[0;36m1\u001b[0m\u001b[0;34m)\u001b[0m\u001b[0;34m\u001b[0m\u001b[0;34m\u001b[0m\u001b[0m\n\u001b[0m\u001b[1;32m      7\u001b[0m     \u001b[0mforecast\u001b[0m \u001b[0;34m=\u001b[0m \u001b[0mmodel\u001b[0m\u001b[0;34m.\u001b[0m\u001b[0mpredict\u001b[0m\u001b[0;34m(\u001b[0m\u001b[0mdataset\u001b[0m\u001b[0;34m)\u001b[0m\u001b[0;34m\u001b[0m\u001b[0;34m\u001b[0m\u001b[0m\n\u001b[1;32m      8\u001b[0m     \u001b[0;32mreturn\u001b[0m \u001b[0mforecast\u001b[0m\u001b[0;34m\u001b[0m\u001b[0;34m\u001b[0m\u001b[0m\n",
            "\u001b[0;31mAttributeError\u001b[0m: 'BatchDataset' object has no attribute 'fetch'"
          ]
        }
      ]
    },
    {
      "cell_type": "code",
      "metadata": {
        "id": "izy6wl2S9d-2"
      },
      "source": [
        "plt.figure(figsize=(10, 6))\n",
        "plot_series(time_valid, x_valid)\n",
        "plot_series(time_valid, rnn_forecast)\n",
        "\n",
        "# EXPECTED OUTPUT. PLOT SHOULD SHOW PROJECTIONS FOLLOWING ORIGINAL DATA CLOSELY"
      ],
      "execution_count": null,
      "outputs": []
    },
    {
      "cell_type": "code",
      "metadata": {
        "id": "13XrorC5wQoE"
      },
      "source": [
        "tf.keras.metrics.mean_absolute_error(x_valid, rnn_forecast).numpy()\n",
        "\n",
        "# EXPECTED OUTPUT MAE < 2 -- I GOT 1.789626"
      ],
      "execution_count": null,
      "outputs": []
    },
    {
      "cell_type": "code",
      "metadata": {
        "id": "AOVzQXxCwkzP"
      },
      "source": [
        "print(rnn_forecast)\n",
        "# EXPECTED OUTPUT -- ARRAY OF VALUES IN THE LOW TEENS"
      ],
      "execution_count": null,
      "outputs": []
    }
  ]
}