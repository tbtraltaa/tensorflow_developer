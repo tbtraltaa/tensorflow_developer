{
  "nbformat": 4,
  "nbformat_minor": 0,
  "metadata": {
    "accelerator": "GPU",
    "colab": {
      "name": "C4_W4_Assignment.ipynb",
      "provenance": [],
      "collapsed_sections": [],
      "toc_visible": true,
      "include_colab_link": true
    },
    "kernelspec": {
      "display_name": "Python 3",
      "language": "python",
      "name": "python3"
    },
    "language_info": {
      "codemirror_mode": {
        "name": "ipython",
        "version": 3
      },
      "file_extension": ".py",
      "mimetype": "text/x-python",
      "name": "python",
      "nbconvert_exporter": "python",
      "pygments_lexer": "ipython3",
      "version": "3.8.5"
    }
  },
  "cells": [
    {
      "cell_type": "markdown",
      "metadata": {
        "id": "view-in-github",
        "colab_type": "text"
      },
      "source": [
        "<a href=\"https://colab.research.google.com/github/tbtraltaa/tensorflow_developer/blob/main/C4/W4/assignment/C4_W4_Assignment.ipynb\" target=\"_parent\"><img src=\"https://colab.research.google.com/assets/colab-badge.svg\" alt=\"Open In Colab\"/></a>"
      ]
    },
    {
      "cell_type": "code",
      "metadata": {
        "id": "zX4Kg8DUTKWO"
      },
      "source": [
        "#@title Licensed under the Apache License, Version 2.0 (the \"License\");\n",
        "# you may not use this file except in compliance with the License.\n",
        "# You may obtain a copy of the License at\n",
        "#\n",
        "# https://www.apache.org/licenses/LICENSE-2.0\n",
        "#\n",
        "# Unless required by applicable law or agreed to in writing, software\n",
        "# distributed under the License is distributed on an \"AS IS\" BASIS,\n",
        "# WITHOUT WARRANTIES OR CONDITIONS OF ANY KIND, either express or implied.\n",
        "# See the License for the specific language governing permissions and\n",
        "# limitations under the License."
      ],
      "execution_count": null,
      "outputs": []
    },
    {
      "cell_type": "markdown",
      "metadata": {
        "id": "1m0njwZtsvy_"
      },
      "source": [
        "**Note:** This notebook can run using TensorFlow 2.5.0"
      ]
    },
    {
      "cell_type": "code",
      "metadata": {
        "id": "D5DDeGwLsvzA"
      },
      "source": [
        "#!pip install tensorflow==2.5.0"
      ],
      "execution_count": null,
      "outputs": []
    },
    {
      "cell_type": "code",
      "metadata": {
        "id": "56XEQOGknrAk"
      },
      "source": [
        "import tensorflow as tf\n",
        "print(tf.__version__)"
      ],
      "execution_count": null,
      "outputs": []
    },
    {
      "cell_type": "code",
      "metadata": {
        "id": "sLl52leVp5wU"
      },
      "source": [
        "import numpy as np\n",
        "import matplotlib.pyplot as plt\n",
        "def plot_series(time, series, format=\"-\", start=0, end=None):\n",
        "    plt.plot(time[start:end], series[start:end], format)\n",
        "    plt.xlabel(\"Time\")\n",
        "    plt.ylabel(\"Value\")\n",
        "    plt.grid(True)"
      ],
      "execution_count": null,
      "outputs": []
    },
    {
      "cell_type": "code",
      "metadata": {
        "id": "tP7oqUdkk0gY"
      },
      "source": [
        "!wget --no-check-certificate \\\n",
        "    https://raw.githubusercontent.com/jbrownlee/Datasets/master/daily-min-temperatures.csv \\\n",
        "    -O /tmp/daily-min-temperatures.csv"
      ],
      "execution_count": null,
      "outputs": []
    },
    {
      "cell_type": "code",
      "metadata": {
        "id": "NcG9r1eClbTh"
      },
      "source": [
        "import csv\n",
        "time_step = []\n",
        "temps = []\n",
        "\n",
        "with open('/tmp/daily-min-temperatures.csv') as csvfile:\n",
        "# YOUR CODE HERE. READ TEMPERATURES INTO TEMPS\n",
        "# HAVE TIME STEPS BE A SIMPLE ARRAY OF 1, 2, 3, 4 etc\n",
        "\n",
        "series = np.array(temps)\n",
        "time = np.array(time_step)\n",
        "plt.figure(figsize=(10, 6))\n",
        "plot_series(time, series)"
      ],
      "execution_count": null,
      "outputs": []
    },
    {
      "cell_type": "code",
      "metadata": {
        "id": "L92YRw_IpCFG"
      },
      "source": [
        "split_time = 2500\n",
        "time_train = # YOUR CODE HERE\n",
        "x_train = # YOUR CODE HERE\n",
        "time_valid = # YOUR CODE HERE\n",
        "x_valid = # YOUR CODE HERE\n",
        "\n",
        "window_size = 30\n",
        "batch_size = 32\n",
        "shuffle_buffer_size = 1000\n"
      ],
      "execution_count": null,
      "outputs": []
    },
    {
      "cell_type": "code",
      "metadata": {
        "id": "lJwUUZscnG38"
      },
      "source": [
        "def windowed_dataset(series, window_size, batch_size, shuffle_buffer):\n",
        "    # YOUR CODE HERE"
      ],
      "execution_count": null,
      "outputs": []
    },
    {
      "cell_type": "code",
      "metadata": {
        "id": "4XwGrf-A_wF0"
      },
      "source": [
        "def model_forecast(model, series, window_size):\n",
        "    # YOUR CODE HERE"
      ],
      "execution_count": null,
      "outputs": []
    },
    {
      "cell_type": "code",
      "metadata": {
        "id": "AclfYY3Mn6Ph"
      },
      "source": [
        "tf.keras.backend.clear_session()\n",
        "tf.random.set_seed(51)\n",
        "np.random.seed(51)\n",
        "window_size = 64\n",
        "batch_size = 256\n",
        "train_set = windowed_dataset(x_train, window_size, batch_size, shuffle_buffer_size)\n",
        "print(train_set)\n",
        "print(x_train.shape)\n",
        "\n",
        "model = tf.keras.models.Sequential([\n",
        "# YOUR CODE HERE\n",
        "])\n",
        "\n",
        "lr_schedule = tf.keras.callbacks.LearningRateScheduler(\n",
        "    lambda epoch: 1e-8 * 10**(epoch / 20))\n",
        "optimizer = tf.keras.optimizers.SGD(learning_rate=1e-8, momentum=0.9)\n",
        "model.compile(loss=tf.keras.losses.Huber(),\n",
        "              optimizer=optimizer,\n",
        "              metrics=[\"mae\"])\n",
        "history = model.fit(train_set, epochs=100, callbacks=[lr_schedule])\n"
      ],
      "execution_count": null,
      "outputs": []
    },
    {
      "cell_type": "code",
      "metadata": {
        "id": "vVcKmg7Q_7rD"
      },
      "source": [
        "plt.semilogx(history.history[\"lr\"], history.history[\"loss\"])\n",
        "plt.axis([1e-8, 1e-4, 0, 60])"
      ],
      "execution_count": null,
      "outputs": []
    },
    {
      "cell_type": "code",
      "metadata": {
        "id": "QsksvkcXAAgq",
        "outputId": "14387aad-8c77-44ad-f855-81b21f87ed97",
        "colab": {
          "base_uri": "https://localhost:8080/"
        }
      },
      "source": [
        "tf.keras.backend.clear_session()\n",
        "tf.random.set_seed(51)\n",
        "np.random.seed(51)\n",
        "train_set = windowed_dataset(x_train, window_size=60, batch_size=100, shuffle_buffer=shuffle_buffer_size)\n",
        "model = tf.keras.models.Sequential([\n",
        "# YOUR CODE HERE\n",
        "])\n",
        "\n",
        "\n",
        "optimizer = tf.keras.optimizers.SGD(learning_rate=# YOUR CODE HERE, momentum=0.9)\n",
        "model.compile(loss=tf.keras.losses.Huber(),\n",
        "              optimizer=optimizer,\n",
        "              metrics=[\"mae\"])\n",
        "history = model.fit(train_set,epochs=# YOUR CODE HERE)\n",
        "                                    \n",
        "# EXPECTED OUTPUT SHOULD SEE AN MAE OF <2 WITHIN ABOUT 30 EPOCHS"
      ],
      "execution_count": 34,
      "outputs": [
        {
          "metadata": {
            "tags": null
          },
          "name": "stdout",
          "output_type": "stream",
          "text": [
            "Epoch 1/150\n",
            "25/25 [==============================] - 5s 39ms/step - loss: 9.8779 - mae: 10.3645\n",
            "Epoch 2/150\n",
            "25/25 [==============================] - 1s 40ms/step - loss: 2.7308 - mae: 3.1968\n",
            "Epoch 3/150\n",
            "25/25 [==============================] - 1s 38ms/step - loss: 2.4405 - mae: 2.9030\n",
            "Epoch 4/150\n",
            "25/25 [==============================] - 1s 39ms/step - loss: 2.3559 - mae: 2.8171\n",
            "Epoch 5/150\n",
            "25/25 [==============================] - 1s 37ms/step - loss: 2.4620 - mae: 2.9241\n",
            "Epoch 6/150\n",
            "25/25 [==============================] - 1s 39ms/step - loss: 2.3701 - mae: 2.8315\n",
            "Epoch 7/150\n",
            "25/25 [==============================] - 1s 39ms/step - loss: 2.3196 - mae: 2.7794\n",
            "Epoch 8/150\n",
            "25/25 [==============================] - 1s 39ms/step - loss: 2.4254 - mae: 2.8876\n",
            "Epoch 9/150\n",
            "25/25 [==============================] - 1s 38ms/step - loss: 2.2868 - mae: 2.7469\n",
            "Epoch 10/150\n",
            "25/25 [==============================] - 1s 38ms/step - loss: 2.2923 - mae: 2.7517\n",
            "Epoch 11/150\n",
            "25/25 [==============================] - 1s 38ms/step - loss: 2.4218 - mae: 2.8833\n",
            "Epoch 12/150\n",
            "25/25 [==============================] - 1s 38ms/step - loss: 2.2883 - mae: 2.7483\n",
            "Epoch 13/150\n",
            "25/25 [==============================] - 1s 39ms/step - loss: 2.3001 - mae: 2.7602\n",
            "Epoch 14/150\n",
            "25/25 [==============================] - 1s 42ms/step - loss: 2.3846 - mae: 2.8473\n",
            "Epoch 15/150\n",
            "25/25 [==============================] - 1s 38ms/step - loss: 2.2679 - mae: 2.7262\n",
            "Epoch 16/150\n",
            "25/25 [==============================] - 1s 39ms/step - loss: 2.2731 - mae: 2.7322\n",
            "Epoch 17/150\n",
            "25/25 [==============================] - 1s 39ms/step - loss: 2.4093 - mae: 2.8697\n",
            "Epoch 18/150\n",
            "25/25 [==============================] - 1s 39ms/step - loss: 2.2843 - mae: 2.7439\n",
            "Epoch 19/150\n",
            "25/25 [==============================] - 1s 39ms/step - loss: 2.2912 - mae: 2.7518\n",
            "Epoch 20/150\n",
            "25/25 [==============================] - 1s 41ms/step - loss: 2.3539 - mae: 2.8153\n",
            "Epoch 21/150\n",
            "25/25 [==============================] - 1s 39ms/step - loss: 2.2785 - mae: 2.7395\n",
            "Epoch 22/150\n",
            "25/25 [==============================] - 1s 39ms/step - loss: 2.2279 - mae: 2.6869\n",
            "Epoch 23/150\n",
            "25/25 [==============================] - 1s 39ms/step - loss: 2.3389 - mae: 2.8004\n",
            "Epoch 24/150\n",
            "25/25 [==============================] - 1s 38ms/step - loss: 2.2072 - mae: 2.6654\n",
            "Epoch 25/150\n",
            "25/25 [==============================] - 1s 39ms/step - loss: 2.2250 - mae: 2.6836\n",
            "Epoch 26/150\n",
            "25/25 [==============================] - 1s 39ms/step - loss: 2.3261 - mae: 2.7869\n",
            "Epoch 27/150\n",
            "25/25 [==============================] - 1s 39ms/step - loss: 2.3274 - mae: 2.7880\n",
            "Epoch 28/150\n",
            "25/25 [==============================] - 1s 39ms/step - loss: 2.1962 - mae: 2.6537\n",
            "Epoch 29/150\n",
            "25/25 [==============================] - 1s 40ms/step - loss: 2.2510 - mae: 2.7101\n",
            "Epoch 30/150\n",
            "25/25 [==============================] - 1s 40ms/step - loss: 2.2794 - mae: 2.7388\n",
            "Epoch 31/150\n",
            "25/25 [==============================] - 1s 39ms/step - loss: 2.3743 - mae: 2.8357\n",
            "Epoch 32/150\n",
            "25/25 [==============================] - 1s 39ms/step - loss: 2.2592 - mae: 2.7182\n",
            "Epoch 33/150\n",
            "25/25 [==============================] - 1s 38ms/step - loss: 2.2635 - mae: 2.7243\n",
            "Epoch 34/150\n",
            "25/25 [==============================] - 1s 39ms/step - loss: 2.2819 - mae: 2.7414\n",
            "Epoch 35/150\n",
            "25/25 [==============================] - 1s 39ms/step - loss: 2.2111 - mae: 2.6689\n",
            "Epoch 36/150\n",
            "25/25 [==============================] - 1s 39ms/step - loss: 2.1852 - mae: 2.6440\n",
            "Epoch 37/150\n",
            "25/25 [==============================] - 1s 38ms/step - loss: 2.1922 - mae: 2.6501\n",
            "Epoch 38/150\n",
            "25/25 [==============================] - 1s 39ms/step - loss: 2.3523 - mae: 2.8130\n",
            "Epoch 39/150\n",
            "25/25 [==============================] - 1s 38ms/step - loss: 2.1869 - mae: 2.6442\n",
            "Epoch 40/150\n",
            "25/25 [==============================] - 1s 40ms/step - loss: 2.2607 - mae: 2.7201\n",
            "Epoch 41/150\n",
            "25/25 [==============================] - 1s 41ms/step - loss: 2.2699 - mae: 2.7294\n",
            "Epoch 42/150\n",
            "25/25 [==============================] - 1s 39ms/step - loss: 2.2678 - mae: 2.7289\n",
            "Epoch 43/150\n",
            "25/25 [==============================] - 1s 41ms/step - loss: 2.2611 - mae: 2.7212\n",
            "Epoch 44/150\n",
            "25/25 [==============================] - 1s 39ms/step - loss: 2.2160 - mae: 2.6749\n",
            "Epoch 45/150\n",
            "25/25 [==============================] - 1s 39ms/step - loss: 2.2829 - mae: 2.7422\n",
            "Epoch 46/150\n",
            "25/25 [==============================] - 1s 40ms/step - loss: 2.2360 - mae: 2.6948\n",
            "Epoch 47/150\n",
            "25/25 [==============================] - 1s 38ms/step - loss: 2.2794 - mae: 2.7394\n",
            "Epoch 48/150\n",
            "25/25 [==============================] - 1s 40ms/step - loss: 2.3149 - mae: 2.7759\n",
            "Epoch 49/150\n",
            "25/25 [==============================] - 1s 40ms/step - loss: 2.2244 - mae: 2.6831\n",
            "Epoch 50/150\n",
            "25/25 [==============================] - 2s 54ms/step - loss: 2.2884 - mae: 2.7485\n",
            "Epoch 51/150\n",
            "25/25 [==============================] - 1s 37ms/step - loss: 2.2688 - mae: 2.7283\n",
            "Epoch 52/150\n",
            "25/25 [==============================] - 1s 38ms/step - loss: 2.3647 - mae: 2.8272\n",
            "Epoch 53/150\n",
            "25/25 [==============================] - 1s 37ms/step - loss: 2.2589 - mae: 2.7201\n",
            "Epoch 54/150\n",
            "25/25 [==============================] - 1s 38ms/step - loss: 2.2169 - mae: 2.6749\n",
            "Epoch 55/150\n",
            "25/25 [==============================] - 1s 38ms/step - loss: 2.3454 - mae: 2.8063\n",
            "Epoch 56/150\n",
            "25/25 [==============================] - 1s 38ms/step - loss: 2.1805 - mae: 2.6385\n",
            "Epoch 57/150\n",
            "25/25 [==============================] - 1s 38ms/step - loss: 2.1967 - mae: 2.6552\n",
            "Epoch 58/150\n",
            "25/25 [==============================] - 1s 39ms/step - loss: 2.3391 - mae: 2.8005\n",
            "Epoch 59/150\n",
            "25/25 [==============================] - 1s 39ms/step - loss: 2.3007 - mae: 2.7598\n",
            "Epoch 60/150\n",
            "25/25 [==============================] - 1s 38ms/step - loss: 2.2575 - mae: 2.7172\n",
            "Epoch 61/150\n",
            "25/25 [==============================] - 1s 39ms/step - loss: 2.2092 - mae: 2.6679\n",
            "Epoch 62/150\n",
            "25/25 [==============================] - 1s 39ms/step - loss: 2.2689 - mae: 2.7293\n",
            "Epoch 63/150\n",
            "25/25 [==============================] - 1s 39ms/step - loss: 2.2087 - mae: 2.6674\n",
            "Epoch 64/150\n",
            "25/25 [==============================] - 1s 38ms/step - loss: 2.2189 - mae: 2.6789\n",
            "Epoch 65/150\n",
            "25/25 [==============================] - 1s 40ms/step - loss: 2.1952 - mae: 2.6526\n",
            "Epoch 66/150\n",
            "25/25 [==============================] - 1s 39ms/step - loss: 2.1737 - mae: 2.6314\n",
            "Epoch 67/150\n",
            "25/25 [==============================] - 1s 38ms/step - loss: 2.2105 - mae: 2.6693\n",
            "Epoch 68/150\n",
            "25/25 [==============================] - 1s 40ms/step - loss: 2.3042 - mae: 2.7663\n",
            "Epoch 69/150\n",
            "25/25 [==============================] - 1s 39ms/step - loss: 2.1982 - mae: 2.6562\n",
            "Epoch 70/150\n",
            "25/25 [==============================] - 1s 39ms/step - loss: 2.1708 - mae: 2.6288\n",
            "Epoch 71/150\n",
            "25/25 [==============================] - 1s 38ms/step - loss: 2.2243 - mae: 2.6843\n",
            "Epoch 72/150\n",
            "25/25 [==============================] - 1s 38ms/step - loss: 2.1763 - mae: 2.6345\n",
            "Epoch 73/150\n",
            "25/25 [==============================] - 1s 38ms/step - loss: 2.1883 - mae: 2.6459\n",
            "Epoch 74/150\n",
            "25/25 [==============================] - 1s 40ms/step - loss: 2.2477 - mae: 2.7070\n",
            "Epoch 75/150\n",
            "25/25 [==============================] - 1s 39ms/step - loss: 2.2818 - mae: 2.7417\n",
            "Epoch 76/150\n",
            "25/25 [==============================] - 1s 39ms/step - loss: 2.2426 - mae: 2.7026\n",
            "Epoch 77/150\n",
            "25/25 [==============================] - 1s 39ms/step - loss: 2.1657 - mae: 2.6235\n",
            "Epoch 78/150\n",
            "25/25 [==============================] - 1s 38ms/step - loss: 2.2585 - mae: 2.7188\n",
            "Epoch 79/150\n",
            "25/25 [==============================] - 1s 38ms/step - loss: 2.1655 - mae: 2.6224\n",
            "Epoch 80/150\n",
            "25/25 [==============================] - 1s 39ms/step - loss: 2.1955 - mae: 2.6539\n",
            "Epoch 81/150\n",
            "25/25 [==============================] - 1s 38ms/step - loss: 2.2002 - mae: 2.6604\n",
            "Epoch 82/150\n",
            "25/25 [==============================] - 1s 38ms/step - loss: 2.1980 - mae: 2.6558\n",
            "Epoch 83/150\n",
            "25/25 [==============================] - 1s 38ms/step - loss: 2.1862 - mae: 2.6439\n",
            "Epoch 84/150\n",
            "25/25 [==============================] - 1s 38ms/step - loss: 2.2606 - mae: 2.7200\n",
            "Epoch 85/150\n",
            "25/25 [==============================] - 1s 38ms/step - loss: 2.1644 - mae: 2.6217\n",
            "Epoch 86/150\n",
            "25/25 [==============================] - 1s 39ms/step - loss: 2.1813 - mae: 2.6397\n",
            "Epoch 87/150\n",
            "25/25 [==============================] - 1s 37ms/step - loss: 2.2490 - mae: 2.7082\n",
            "Epoch 88/150\n",
            "25/25 [==============================] - 1s 38ms/step - loss: 2.1527 - mae: 2.6098\n",
            "Epoch 89/150\n",
            "25/25 [==============================] - 1s 38ms/step - loss: 2.1690 - mae: 2.6271\n",
            "Epoch 90/150\n",
            "25/25 [==============================] - 1s 38ms/step - loss: 2.1699 - mae: 2.6272\n",
            "Epoch 91/150\n",
            "25/25 [==============================] - 1s 39ms/step - loss: 2.1816 - mae: 2.6397\n",
            "Epoch 92/150\n",
            "25/25 [==============================] - 1s 38ms/step - loss: 2.2169 - mae: 2.6751\n",
            "Epoch 93/150\n",
            "25/25 [==============================] - 1s 38ms/step - loss: 2.1923 - mae: 2.6502\n",
            "Epoch 94/150\n",
            "25/25 [==============================] - 1s 38ms/step - loss: 2.2275 - mae: 2.6861\n",
            "Epoch 95/150\n",
            "25/25 [==============================] - 1s 39ms/step - loss: 2.3178 - mae: 2.7787\n",
            "Epoch 96/150\n",
            "25/25 [==============================] - 1s 38ms/step - loss: 2.3383 - mae: 2.7988\n",
            "Epoch 97/150\n",
            "25/25 [==============================] - 1s 37ms/step - loss: 2.2438 - mae: 2.7035\n",
            "Epoch 98/150\n",
            "25/25 [==============================] - 1s 39ms/step - loss: 2.1674 - mae: 2.6245\n",
            "Epoch 99/150\n",
            "25/25 [==============================] - 1s 39ms/step - loss: 2.2208 - mae: 2.6797\n",
            "Epoch 100/150\n",
            "25/25 [==============================] - 1s 38ms/step - loss: 2.1966 - mae: 2.6547\n",
            "Epoch 101/150\n",
            "25/25 [==============================] - 1s 38ms/step - loss: 2.2289 - mae: 2.6871\n",
            "Epoch 102/150\n",
            "25/25 [==============================] - 1s 38ms/step - loss: 2.1679 - mae: 2.6247\n",
            "Epoch 103/150\n",
            "25/25 [==============================] - 1s 38ms/step - loss: 2.2538 - mae: 2.7128\n",
            "Epoch 104/150\n",
            "25/25 [==============================] - 1s 38ms/step - loss: 2.2179 - mae: 2.6751\n",
            "Epoch 105/150\n",
            "25/25 [==============================] - 1s 38ms/step - loss: 2.1859 - mae: 2.6444\n",
            "Epoch 106/150\n",
            "25/25 [==============================] - 1s 39ms/step - loss: 2.2080 - mae: 2.6664\n",
            "Epoch 107/150\n",
            "25/25 [==============================] - 1s 39ms/step - loss: 2.1763 - mae: 2.6335\n",
            "Epoch 108/150\n",
            "25/25 [==============================] - 1s 39ms/step - loss: 2.1653 - mae: 2.6224\n",
            "Epoch 109/150\n",
            "25/25 [==============================] - 1s 38ms/step - loss: 2.2018 - mae: 2.6609\n",
            "Epoch 110/150\n",
            "25/25 [==============================] - 1s 38ms/step - loss: 2.2101 - mae: 2.6668\n",
            "Epoch 111/150\n",
            "25/25 [==============================] - 1s 39ms/step - loss: 2.1710 - mae: 2.6291\n",
            "Epoch 112/150\n",
            "25/25 [==============================] - 1s 38ms/step - loss: 2.1625 - mae: 2.6192\n",
            "Epoch 113/150\n",
            "25/25 [==============================] - 1s 39ms/step - loss: 2.1734 - mae: 2.6299\n",
            "Epoch 114/150\n",
            "25/25 [==============================] - 1s 39ms/step - loss: 2.1764 - mae: 2.6335\n",
            "Epoch 115/150\n",
            "25/25 [==============================] - 1s 38ms/step - loss: 2.2206 - mae: 2.6795\n",
            "Epoch 116/150\n",
            "25/25 [==============================] - 1s 38ms/step - loss: 2.2161 - mae: 2.6763\n",
            "Epoch 117/150\n",
            "25/25 [==============================] - 1s 39ms/step - loss: 2.1684 - mae: 2.6258\n",
            "Epoch 118/150\n",
            "25/25 [==============================] - 1s 38ms/step - loss: 2.2001 - mae: 2.6585\n",
            "Epoch 119/150\n",
            "25/25 [==============================] - 1s 37ms/step - loss: 2.2251 - mae: 2.6844\n",
            "Epoch 120/150\n",
            "25/25 [==============================] - 1s 38ms/step - loss: 2.1632 - mae: 2.6198\n",
            "Epoch 121/150\n",
            "25/25 [==============================] - 1s 39ms/step - loss: 2.2059 - mae: 2.6648\n",
            "Epoch 122/150\n",
            "25/25 [==============================] - 1s 37ms/step - loss: 2.1804 - mae: 2.6375\n",
            "Epoch 123/150\n",
            "25/25 [==============================] - 1s 36ms/step - loss: 2.1577 - mae: 2.6147\n",
            "Epoch 124/150\n",
            "25/25 [==============================] - 1s 38ms/step - loss: 2.1662 - mae: 2.6230\n",
            "Epoch 125/150\n",
            "25/25 [==============================] - 1s 38ms/step - loss: 2.1900 - mae: 2.6481\n",
            "Epoch 126/150\n",
            "25/25 [==============================] - 1s 37ms/step - loss: 2.1657 - mae: 2.6236\n",
            "Epoch 127/150\n",
            "25/25 [==============================] - 1s 38ms/step - loss: 2.1923 - mae: 2.6506\n",
            "Epoch 128/150\n",
            "25/25 [==============================] - 1s 39ms/step - loss: 2.1819 - mae: 2.6397\n",
            "Epoch 129/150\n",
            "25/25 [==============================] - 1s 38ms/step - loss: 2.2220 - mae: 2.6798\n",
            "Epoch 130/150\n",
            "25/25 [==============================] - 1s 37ms/step - loss: 2.2230 - mae: 2.6808\n",
            "Epoch 131/150\n",
            "25/25 [==============================] - 1s 37ms/step - loss: 2.1857 - mae: 2.6437\n",
            "Epoch 132/150\n",
            "25/25 [==============================] - 1s 38ms/step - loss: 2.2041 - mae: 2.6632\n",
            "Epoch 133/150\n",
            "25/25 [==============================] - 1s 39ms/step - loss: 2.2220 - mae: 2.6799\n",
            "Epoch 134/150\n",
            "25/25 [==============================] - 1s 38ms/step - loss: 2.1920 - mae: 2.6501\n",
            "Epoch 135/150\n",
            "25/25 [==============================] - 1s 38ms/step - loss: 2.1618 - mae: 2.6185\n",
            "Epoch 136/150\n",
            "25/25 [==============================] - 1s 38ms/step - loss: 2.2097 - mae: 2.6679\n",
            "Epoch 137/150\n",
            "25/25 [==============================] - 1s 38ms/step - loss: 2.1734 - mae: 2.6313\n",
            "Epoch 138/150\n",
            "25/25 [==============================] - 1s 39ms/step - loss: 2.1684 - mae: 2.6259\n",
            "Epoch 139/150\n",
            "25/25 [==============================] - 1s 39ms/step - loss: 2.1637 - mae: 2.6215\n",
            "Epoch 140/150\n",
            "25/25 [==============================] - 1s 38ms/step - loss: 2.1702 - mae: 2.6270\n",
            "Epoch 141/150\n",
            "25/25 [==============================] - 1s 38ms/step - loss: 2.1754 - mae: 2.6336\n",
            "Epoch 142/150\n",
            "25/25 [==============================] - 1s 38ms/step - loss: 2.1727 - mae: 2.6300\n",
            "Epoch 143/150\n",
            "25/25 [==============================] - 1s 38ms/step - loss: 2.1725 - mae: 2.6302\n",
            "Epoch 144/150\n",
            "25/25 [==============================] - 1s 37ms/step - loss: 2.1649 - mae: 2.6225\n",
            "Epoch 145/150\n",
            "25/25 [==============================] - 1s 38ms/step - loss: 2.2426 - mae: 2.7018\n",
            "Epoch 146/150\n",
            "25/25 [==============================] - 1s 38ms/step - loss: 2.1629 - mae: 2.6198\n",
            "Epoch 147/150\n",
            "25/25 [==============================] - 1s 37ms/step - loss: 2.2177 - mae: 2.6767\n",
            "Epoch 148/150\n",
            "25/25 [==============================] - 1s 37ms/step - loss: 2.1786 - mae: 2.6361\n",
            "Epoch 149/150\n",
            "25/25 [==============================] - 1s 37ms/step - loss: 2.1986 - mae: 2.6558\n",
            "Epoch 150/150\n",
            "25/25 [==============================] - 1s 38ms/step - loss: 2.1719 - mae: 2.6287\n"
          ]
        }
      ]
    },
    {
      "cell_type": "code",
      "metadata": {
        "id": "GaC6NNMRp0lb",
        "outputId": "9835b311-28e1-47e3-bbf0-d473cacb0a5b",
        "colab": {
          "base_uri": "https://localhost:8080/",
          "height": 311
        }
      },
      "source": [
        "rnn_forecast = model_forecast(model, series[..., np.newaxis], window_size)\n",
        "rnn_forecast = rnn_forecast[split_time - window_size:-1, -1, 0]"
      ],
      "execution_count": 35,
      "outputs": [
        {
          "output_type": "error",
          "ename": "AttributeError",
          "evalue": "ignored",
          "traceback": [
            "\u001b[0;31m---------------------------------------------------------------------------\u001b[0m",
            "\u001b[0;31mAttributeError\u001b[0m                            Traceback (most recent call last)",
            "\u001b[0;32m<ipython-input-35-758da175dde7>\u001b[0m in \u001b[0;36m<module>\u001b[0;34m()\u001b[0m\n\u001b[0;32m----> 1\u001b[0;31m \u001b[0mrnn_forecast\u001b[0m \u001b[0;34m=\u001b[0m \u001b[0mmodel_forecast\u001b[0m\u001b[0;34m(\u001b[0m\u001b[0mmodel\u001b[0m\u001b[0;34m,\u001b[0m \u001b[0mseries\u001b[0m\u001b[0;34m[\u001b[0m\u001b[0;34m...\u001b[0m\u001b[0;34m,\u001b[0m \u001b[0mnp\u001b[0m\u001b[0;34m.\u001b[0m\u001b[0mnewaxis\u001b[0m\u001b[0;34m]\u001b[0m\u001b[0;34m,\u001b[0m \u001b[0mwindow_size\u001b[0m\u001b[0;34m)\u001b[0m\u001b[0;34m\u001b[0m\u001b[0;34m\u001b[0m\u001b[0m\n\u001b[0m\u001b[1;32m      2\u001b[0m \u001b[0mrnn_forecast\u001b[0m \u001b[0;34m=\u001b[0m \u001b[0mrnn_forecast\u001b[0m\u001b[0;34m[\u001b[0m\u001b[0msplit_time\u001b[0m \u001b[0;34m-\u001b[0m \u001b[0mwindow_size\u001b[0m\u001b[0;34m:\u001b[0m\u001b[0;34m-\u001b[0m\u001b[0;36m1\u001b[0m\u001b[0;34m,\u001b[0m \u001b[0;34m-\u001b[0m\u001b[0;36m1\u001b[0m\u001b[0;34m,\u001b[0m \u001b[0;36m0\u001b[0m\u001b[0;34m]\u001b[0m\u001b[0;34m\u001b[0m\u001b[0;34m\u001b[0m\u001b[0m\n",
            "\u001b[0;32m<ipython-input-31-ae30adcc015d>\u001b[0m in \u001b[0;36mmodel_forecast\u001b[0;34m(model, series, window_size)\u001b[0m\n\u001b[1;32m      4\u001b[0m     \u001b[0mdataset\u001b[0m \u001b[0;34m=\u001b[0m \u001b[0mdataset\u001b[0m\u001b[0;34m.\u001b[0m\u001b[0mwindow\u001b[0m\u001b[0;34m(\u001b[0m\u001b[0mwindow_size\u001b[0m\u001b[0;34m,\u001b[0m \u001b[0mshift\u001b[0m\u001b[0;34m=\u001b[0m\u001b[0;36m1\u001b[0m\u001b[0;34m,\u001b[0m \u001b[0mdrop_remainder\u001b[0m\u001b[0;34m=\u001b[0m\u001b[0;32mTrue\u001b[0m\u001b[0;34m)\u001b[0m\u001b[0;34m\u001b[0m\u001b[0;34m\u001b[0m\u001b[0m\n\u001b[1;32m      5\u001b[0m     \u001b[0mdataset\u001b[0m \u001b[0;34m=\u001b[0m \u001b[0mdataset\u001b[0m\u001b[0;34m.\u001b[0m\u001b[0mflat_map\u001b[0m\u001b[0;34m(\u001b[0m\u001b[0;32mlambda\u001b[0m \u001b[0mwindow\u001b[0m\u001b[0;34m:\u001b[0m \u001b[0mwindow\u001b[0m\u001b[0;34m.\u001b[0m\u001b[0mbatch\u001b[0m\u001b[0;34m(\u001b[0m\u001b[0mwindow_size\u001b[0m\u001b[0;34m)\u001b[0m\u001b[0;34m)\u001b[0m\u001b[0;34m\u001b[0m\u001b[0;34m\u001b[0m\u001b[0m\n\u001b[0;32m----> 6\u001b[0;31m     \u001b[0mdataset\u001b[0m \u001b[0;34m=\u001b[0m \u001b[0mdataset\u001b[0m\u001b[0;34m.\u001b[0m\u001b[0mbatch\u001b[0m\u001b[0;34m(\u001b[0m\u001b[0;36m32\u001b[0m\u001b[0;34m)\u001b[0m\u001b[0;34m.\u001b[0m\u001b[0mfetch\u001b[0m\u001b[0;34m(\u001b[0m\u001b[0;36m1\u001b[0m\u001b[0;34m)\u001b[0m\u001b[0;34m\u001b[0m\u001b[0;34m\u001b[0m\u001b[0m\n\u001b[0m\u001b[1;32m      7\u001b[0m     \u001b[0mforecast\u001b[0m \u001b[0;34m=\u001b[0m \u001b[0mmodel\u001b[0m\u001b[0;34m.\u001b[0m\u001b[0mpredict\u001b[0m\u001b[0;34m(\u001b[0m\u001b[0mdataset\u001b[0m\u001b[0;34m)\u001b[0m\u001b[0;34m\u001b[0m\u001b[0;34m\u001b[0m\u001b[0m\n\u001b[1;32m      8\u001b[0m     \u001b[0;32mreturn\u001b[0m \u001b[0mforecast\u001b[0m\u001b[0;34m\u001b[0m\u001b[0;34m\u001b[0m\u001b[0m\n",
            "\u001b[0;31mAttributeError\u001b[0m: 'BatchDataset' object has no attribute 'fetch'"
          ]
        }
      ]
    },
    {
      "cell_type": "code",
      "metadata": {
        "id": "izy6wl2S9d-2"
      },
      "source": [
        "plt.figure(figsize=(10, 6))\n",
        "plot_series(time_valid, x_valid)\n",
        "plot_series(time_valid, rnn_forecast)\n",
        "\n",
        "# EXPECTED OUTPUT. PLOT SHOULD SHOW PROJECTIONS FOLLOWING ORIGINAL DATA CLOSELY"
      ],
      "execution_count": null,
      "outputs": []
    },
    {
      "cell_type": "code",
      "metadata": {
        "id": "13XrorC5wQoE"
      },
      "source": [
        "tf.keras.metrics.mean_absolute_error(x_valid, rnn_forecast).numpy()\n",
        "\n",
        "# EXPECTED OUTPUT MAE < 2 -- I GOT 1.789626"
      ],
      "execution_count": null,
      "outputs": []
    },
    {
      "cell_type": "code",
      "metadata": {
        "id": "AOVzQXxCwkzP"
      },
      "source": [
        "print(rnn_forecast)\n",
        "# EXPECTED OUTPUT -- ARRAY OF VALUES IN THE LOW TEENS"
      ],
      "execution_count": null,
      "outputs": []
    }
  ]
}